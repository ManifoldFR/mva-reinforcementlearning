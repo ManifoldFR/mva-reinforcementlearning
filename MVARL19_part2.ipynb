{
 "cells": [
  {
   "cell_type": "markdown",
   "metadata": {
    "colab_type": "text",
    "id": "XJ_s4_nhhiyo"
   },
   "source": [
    "# Reinforcement Learning with Function Approximation"
   ]
  },
  {
   "cell_type": "code",
   "execution_count": null,
   "metadata": {},
   "outputs": [],
   "source": [
    "!pip install torch==1.2.0 torchvision pyvirtualdisplay matplotlib seaborn pandas numpy pathlib gym\n",
    "!sudo apt-get install xvfb\n",
    "!git clone https://github.com/rlgammazero/mvarl_hands_on.git > /dev/null 2>&1\n",
    "!cd mvarl_hands_on && git pull origin master > /dev/null 2>&1"
   ]
  },
  {
   "cell_type": "code",
   "execution_count": 1,
   "metadata": {},
   "outputs": [],
   "source": [
    "import torch\n",
    "import torch.nn as nn\n",
    "import torch.nn.functional as F \n",
    "from torch import optim\n",
    "\n",
    "import numpy as np\n",
    "\n",
    "import gym\n",
    "from gym.wrappers import Monitor\n",
    "from pprint import pprint\n",
    "from pyvirtualdisplay import Display\n",
    "from IPython import display as ipythondisplay\n",
    "from IPython.display import clear_output\n",
    "\n",
    "from pathlib import Path\n",
    "import base64"
   ]
  },
  {
   "cell_type": "code",
   "execution_count": 2,
   "metadata": {
    "colab": {},
    "colab_type": "code",
    "id": "gCsyvh4NhjUc"
   },
   "outputs": [],
   "source": [
    "# The following code is will be used to visualize the environments.\n",
    "\"\"\"\n",
    "def show_video(directory):\n",
    "    html = []\n",
    "    for mp4 in Path(directory).glob(\"*.mp4\"):\n",
    "        video_b64 = base64.b64encode(mp4.read_bytes())\n",
    "        html.append('''<video alt=\"{}\" autoplay \n",
    "                      loop controls style=\"height: 400px;\">\n",
    "                      <source src=\"data:video/mp4;base64,{}\" type=\"video/mp4\" />\n",
    "                 </video>'''.format(mp4, video_b64.decode('ascii')))\n",
    "    ipythondisplay.display(ipythondisplay.HTML(data=\"<br>\".join(html)))\n",
    "\"\"\"\n",
    "\n",
    "def show_video(directory):\n",
    "    \"\"\"Using IPython.display.Video\"\"\"\n",
    "    all_vids = list(Path(directory).glob(\"*.mp4\"))\n",
    "    for mp4 in all_vids:\n",
    "        vid = ipythondisplay.Video(mp4)\n",
    "        ipythondisplay.display(vid)\n",
    "    \n",
    "display = Display(visible=0, size=(900, 400))\n",
    "display.start();\n",
    "\n",
    "def make_seed(seed):\n",
    "    np.random.seed(seed=seed)\n",
    "    torch.manual_seed(seed=seed)"
   ]
  },
  {
   "cell_type": "markdown",
   "metadata": {
    "colab_type": "text",
    "id": "ThnSNaSMhnXa"
   },
   "source": [
    "PyTorch is a Python package that provides two high-level features:\n",
    "- Tensor computation (like NumPy) with strong GPU acceleration\n",
    "- Deep neural networks built on a tape-based autograd system\n",
    "\n",
    "At a granular level, PyTorch is a library that consists of the following components:\n",
    "\n",
    "| Component | Description |\n",
    "| ---- | --- |\n",
    "| [**torch**](https://pytorch.org/docs/stable/torch.html) | a Tensor library like NumPy, with strong GPU support |\n",
    "| [**torch.autograd**](https://pytorch.org/docs/stable/autograd.html) | a tape-based automatic differentiation library that supports all differentiable Tensor operations in torch |\n",
    "| [**torch.jit**](https://pytorch.org/docs/stable/jit.html) | a compilation stack (TorchScript) to create serializable and optimizable models from PyTorch code  |\n",
    "| [**torch.nn**](https://pytorch.org/docs/stable/nn.html) | a neural networks library deeply integrated with autograd designed for maximum flexibility |\n",
    "| [**torch.multiprocessing**](https://pytorch.org/docs/stable/multiprocessing.html) | Python multiprocessing, but with magical memory sharing of torch Tensors across processes. Useful for data loading and Hogwild training |\n",
    "| [**torch.utils**](https://pytorch.org/docs/stable/data.html) | DataLoader and other utility functions for convenience |\n",
    "\n",
    "\n",
    "**Tutorials on PyTorch:** https://pytorch.org/tutorials/\n"
   ]
  },
  {
   "cell_type": "markdown",
   "metadata": {
    "colab_type": "text",
    "id": "WlZQl9TjhuWY"
   },
   "source": [
    "## OpenAI gym\n",
    "We will consider environments provided by OpenAI gym\n",
    "This library provides a large number of environments to test RL algorithm.\n",
    "\n",
    "We will focus on the **CartPole-v1** environment in this lab but we encourage you to also test your code on:\n",
    "* **Acrobot-v1**\n",
    "* **MountainCar-v0**\n",
    "\n",
    "| Env Info          \t| CartPole-v1 \t| Acrobot-v1                \t| MountainCar-v0 \t|\n",
    "|-------------------\t|-------------\t|---------------------------\t|----------------\t|\n",
    "| **Observation Space** \t| Box(4)      \t| Box(6)                    \t| Box(2)         \t|\n",
    "| **Action Space**      \t| Discrete(2) \t| Discrete(3)               \t| Discrete(3)    \t|\n",
    "| **Rewards**           \t| 1 per step  \t| -1 if not terminal else 0 \t| -1 per step    \t|\n",
    "\n",
    "A gym environment is loaded with the command `env = gym.make(env_id)`. Once the environment is created, you need to reset it with `observation = env.reset()` and then you can interact with it using the method step: `observation, reward, done, info = env.step(action)`."
   ]
  },
  {
   "cell_type": "code",
   "execution_count": 3,
   "metadata": {
    "colab": {},
    "colab_type": "code",
    "id": "3wfHvW9Hh4H3"
   },
   "outputs": [],
   "source": [
    "# We load CartPole-v1\n",
    "env = gym.make('CartPole-v1')\n",
    "# We wrap it in order to save our experiment on a file.\n",
    "env = Monitor(env, \"./gym-results\", force=True)"
   ]
  },
  {
   "cell_type": "code",
   "execution_count": 4,
   "metadata": {
    "colab": {},
    "colab_type": "code",
    "id": "2-fFj5sDiA0C"
   },
   "outputs": [
    {
     "data": {
      "text/html": [
       "<video src=\"gym-results/openaigym.video.0.14362.video000000.mp4\" controls  >\n",
       "      Your browser does not support the <code>video</code> element.\n",
       "    </video>"
      ],
      "text/plain": [
       "<IPython.core.display.Video object>"
      ]
     },
     "metadata": {},
     "output_type": "display_data"
    }
   ],
   "source": [
    "done = False\n",
    "obs = env.reset()\n",
    "while not done:\n",
    "    action = env.action_space.sample()\n",
    "    obs, reward, done, info = env.step(action)\n",
    "env.close()\n",
    "show_video(\"./gym-results\")"
   ]
  },
  {
   "cell_type": "markdown",
   "metadata": {
    "colab_type": "text",
    "id": "sd2xLlapilZE"
   },
   "source": [
    "## REINFORCE\n",
    "\n",
    "**Q1: Implement the REINFORCE algorithm**\n",
    "\n",
    "The code is splitted in two parts:\n",
    "* The Model class defines the architecture of our neural network which takes as input the current state and returns the policy,\n",
    "* The Agent class is responsible for the training and evaluation procedure. You will need to code the method `optimize_model`."
   ]
  },
  {
   "cell_type": "code",
   "execution_count": 5,
   "metadata": {
    "colab": {},
    "colab_type": "code",
    "id": "iwsQ8NSPiCz7"
   },
   "outputs": [],
   "source": [
    "class Model(nn.Module):\n",
    "    def __init__(self, dim_observation, n_actions):\n",
    "        super(Model, self).__init__()\n",
    "        \n",
    "        self.n_actions = n_actions\n",
    "        self.dim_observation = dim_observation\n",
    "        \n",
    "        self.net = nn.Sequential(\n",
    "            nn.Linear(in_features=self.dim_observation, out_features=16),\n",
    "            nn.ReLU(),\n",
    "            nn.Linear(in_features=16, out_features=8),\n",
    "            nn.ReLU(),\n",
    "            nn.Linear(in_features=8, out_features=self.n_actions),\n",
    "            nn.Softmax(dim=0)\n",
    "        )\n",
    "        \n",
    "    def forward(self, state):\n",
    "        return self.net(state)\n",
    "    \n",
    "    def select_action(self, state):\n",
    "        action = torch.multinomial(self.forward(state), 1)\n",
    "        return action"
   ]
  },
  {
   "cell_type": "markdown",
   "metadata": {
    "colab_type": "text",
    "id": "xrgtQMYbiwX7"
   },
   "source": [
    "Create the model based on the properties of the MDP you want to solve"
   ]
  },
  {
   "cell_type": "code",
   "execution_count": 6,
   "metadata": {
    "colab": {},
    "colab_type": "code",
    "id": "S6ieL_KJirq9"
   },
   "outputs": [
    {
     "name": "stdout",
     "output_type": "stream",
     "text": [
      "The model we created correspond to:\n",
      "Model(\n",
      "  (net): Sequential(\n",
      "    (0): Linear(in_features=4, out_features=16, bias=True)\n",
      "    (1): ReLU()\n",
      "    (2): Linear(in_features=16, out_features=8, bias=True)\n",
      "    (3): ReLU()\n",
      "    (4): Linear(in_features=8, out_features=2, bias=True)\n",
      "    (5): Softmax(dim=0)\n",
      "  )\n",
      ")\n"
     ]
    }
   ],
   "source": [
    "env_id = 'CartPole-v1'\n",
    "env = gym.make(env_id)\n",
    "model = Model(env.observation_space.shape[0], env.action_space.n)\n",
    "print(f'The model we created correspond to:\\n{model}')"
   ]
  },
  {
   "cell_type": "markdown",
   "metadata": {
    "colab_type": "text",
    "id": "WwrVF9kti1e-"
   },
   "source": [
    "We provide a base agent that you will need to extend in the next cell with your implementation of `optimize_model`."
   ]
  },
  {
   "cell_type": "code",
   "execution_count": 7,
   "metadata": {
    "colab": {},
    "colab_type": "code",
    "id": "DWvKO66ii1zh"
   },
   "outputs": [],
   "source": [
    "import pandas as pd\n",
    "import itertools\n",
    "import seaborn as sns\n",
    "\n",
    "class BaseAgent:\n",
    "    \n",
    "    def __init__(self, config):\n",
    "        self.config = config\n",
    "        self.env = gym.make(config['env_id'])\n",
    "        make_seed(config['seed'])\n",
    "        self.env.seed(config['seed'])\n",
    "        self.model = Model(self.env.observation_space.shape[0],\n",
    "                           self.env.action_space.n)\n",
    "        self.gamma = config['gamma']\n",
    "        \n",
    "        # the optimizer used by PyTorch (Stochastic Gradient, Adagrad, Adam, etc.)\n",
    "        self.optimizer = torch.optim.Adam(self.model.net.parameters(), lr=config['learning_rate'])\n",
    "        self.monitor_env = Monitor(self.env, \"./gym-results\", force=True, \n",
    "                                   video_callable=lambda episode: True)\n",
    "    \n",
    "        self.current_ep = 0\n",
    "        self.rewards = []\n",
    "    \n",
    "    # Method to implement\n",
    "    def _compute_returns(self, rewards):\n",
    "        \"\"\"Returns the cumulative discounted rewards at each time step\n",
    "\n",
    "        Parameters\n",
    "        ----------\n",
    "        rewards : array\n",
    "            The array of rewards of one episode\n",
    "\n",
    "        Returns\n",
    "        -------\n",
    "        array\n",
    "            The cumulative discounted rewards at each time step\n",
    "            \n",
    "        Example\n",
    "        -------\n",
    "        for rewards=[1, 2, 3] this method outputs [1 + 2 * gamma + 3 * gamma**2, 2 + 3 * gamma, 3] \n",
    "        \"\"\"\n",
    "        \n",
    "        raise NotImplementedError\n",
    "    \n",
    "    # Method to implement\n",
    "    def optimize_model(self, n_trajectories):\n",
    "        \"\"\"Perform a gradient update using n_trajectories\n",
    "\n",
    "        Parameters\n",
    "        ----------\n",
    "        n_trajectories : int\n",
    "            The number of trajectories used to approximate the expectation card(D) in the formula above\n",
    "        \n",
    "        Returns\n",
    "        -------\n",
    "        array\n",
    "            The cumulative discounted rewards of each trajectory\n",
    "        \"\"\"\n",
    "        \n",
    "        raise NotImplementedError\n",
    "    \n",
    "    def train(self, n_trajectories, n_update):\n",
    "        \"\"\"Training method\n",
    "\n",
    "        Parameters\n",
    "        ----------\n",
    "        n_trajectories : int\n",
    "            The number of trajectories used to approximate the expected gradient\n",
    "        n_update : int\n",
    "            The number of gradient updates\n",
    "            \n",
    "        \"\"\"\n",
    "        \n",
    "        final_update = self.current_ep + n_update\n",
    "        rewards = self.rewards  # restart the reward record\n",
    "        for episode in range(self.current_ep, final_update):\n",
    "            rewards.append(self.optimize_model(n_trajectories))\n",
    "            print(f'Episode {episode + 1}/{final_update}: rewards ' \n",
    "                  +f'{round(rewards[-1].mean(), 2)} +/- {round(rewards[-1].std(), 2)}')\n",
    "            self.current_ep += 1\n",
    "        \n",
    "        # Plotting\n",
    "        r = pd.DataFrame((itertools.chain(*(itertools.product([i], rewards[i]) for i in range(len(rewards))))), columns=['Epoch', 'Reward'])\n",
    "        sns.lineplot(x=\"Epoch\", y=\"Reward\", data=r, ci='sd');\n",
    "        \n",
    "    def evaluate(self, render=False):\n",
    "        \"\"\"Evaluate the agent on a single trajectory            \n",
    "        \"\"\"\n",
    "        \n",
    "        ## Wrap in torch.no_grad to stop the tape recorder\n",
    "        ## and stop the RAM from blowing up\n",
    "        with torch.no_grad():\n",
    "            observation = self.monitor_env.reset()\n",
    "            observation = torch.from_numpy(observation).float()\n",
    "            reward_episode = 0\n",
    "            done = False\n",
    "            while not done:\n",
    "                action = self.model.select_action(observation)\n",
    "                observation, reward, done, info = self.monitor_env.step(int(action))\n",
    "                observation = torch.from_numpy(observation).float()\n",
    "                reward_episode = self.gamma * reward_episode + reward\n",
    "        self.monitor_env.close()\n",
    "        if render:\n",
    "            show_video(\"./gym-results\")\n",
    "        print(f'Reward: {reward_episode}')\n",
    "        "
   ]
  },
  {
   "cell_type": "markdown",
   "metadata": {
    "colab_type": "text",
    "id": "Y6mhw_A3i_8R"
   },
   "source": [
    "Finally you can implement your agent"
   ]
  },
  {
   "cell_type": "markdown",
   "metadata": {},
   "source": [
    "**Recall** The REINFORCE algorithm uses an unbiased estimate of the gradient of\n",
    "$$\n",
    "    J(\\theta) = \\mathbb E_{\\tau\\sim \\mathbb P_\\theta}\\left[ R(\\tau) \\right]\n",
    "    = \\mathbb E_\\tau \\left[\n",
    "        \\sum_{t=0}^T \\gamma^t r_t\n",
    "    \\right]\n",
    "$$\n",
    "which has exact gradient\n",
    "$$\n",
    "    \\nabla_\\theta J(\\theta) = \\mathbb E_{\\tau\\sim\\mathbb P_\\theta}\n",
    "    \\left[ R(\\tau)\\nabla_\\theta \\log \\pi_\\theta \\right] =\n",
    "    \\mathbb E_\\tau\\left[\n",
    "    \\left(\\sum_{t=0}^T \\gamma^t r_t\\right)\n",
    "    \\left(\\sum_{t=0}^T \\nabla_\\theta\\log \\pi_\\theta(s_t, a_t) \\right)\n",
    "    \\right]\n",
    "$$\n",
    "\n",
    "We introduce the pseudo-likelihood\n",
    "$$\n",
    "    L(\\theta) = \\frac{1}{M}\\sum_{i=1}^M\n",
    "    \\left(\\sum_{t=0}^T \\gamma^t r^i_t\\right)\n",
    "    \\left(\\sum_{t=0}^T \\log \\pi_\\theta(s^i_t, a^i_t) \\right) \\geq 0\n",
    "$$\n",
    "so that\n",
    "$$\n",
    "    \\nabla_\\theta L(\\theta)\n",
    "$$\n",
    "is an unbiased estimate of the policy gradient $\\nabla_\\theta J(\\theta)$."
   ]
  },
  {
   "cell_type": "code",
   "execution_count": 11,
   "metadata": {
    "colab": {},
    "colab_type": "code",
    "id": "lbjP-7WHi9oc"
   },
   "outputs": [],
   "source": [
    "class REINFORCE(BaseAgent):\n",
    "    \n",
    "    def _compute_returns(self, rewards):\n",
    "        num_rew = len(rewards)\n",
    "        exponents = np.arange(num_rew)\n",
    "        gammas = np.power(self.gamma, exponents)\n",
    "        \n",
    "        return rewards.dot(gammas)\n",
    "    \n",
    "        \n",
    "    def optimize_model(self, n_trajectories):\n",
    "\n",
    "        env = self.env\n",
    "        reward_trajectories = np.empty(n_trajectories)\n",
    "        loss = 0.\n",
    "        \n",
    "        for i in range(n_trajectories):\n",
    "            traj_rewards = []  # rewards of the trajectory\n",
    "            traj_proba = 0.  # sum of log-probabilities of trajectory\n",
    "            \n",
    "            # Build trajectory\n",
    "            done = False\n",
    "            obs = env.reset()\n",
    "            obs = torch.from_numpy(obs).float()  # state s0\n",
    "            while not done:\n",
    "                action = self.model.select_action(obs)  # can be cast to int for action idx\n",
    "                # Get proba\n",
    "                prob = self.model(obs)[int(action)]\n",
    "                traj_proba += torch.log(prob)\n",
    "                \n",
    "                \n",
    "                obs, reward, done, info = env.step(int(action))\n",
    "                \n",
    "                obs = torch.from_numpy(obs).float()\n",
    "                # Store the new reward\n",
    "                traj_rewards.append(reward)\n",
    "                \n",
    "                \n",
    "            traj_rewards = np.array(traj_rewards)  # NumPy array\n",
    "            \n",
    "            # Get total reward\n",
    "            total_reward = self._compute_returns(traj_rewards)  # NumPy array\n",
    "            reward_trajectories[i] = total_reward\n",
    "            \n",
    "            loss = loss + total_reward * traj_proba / n_trajectories  # accumulate the negative criterion\n",
    "        \n",
    "        env.close()  # important\n",
    "        \n",
    "        loss = -loss\n",
    "        \n",
    "        # The following lines take care of the gradient descent step for the variable loss\n",
    "        # that you need to compute.\n",
    "        print(\"Loss:\", loss.data.numpy())\n",
    "        \n",
    "        # Discard previous gradients\n",
    "        self.optimizer.zero_grad()\n",
    "        # Compute the gradient \n",
    "        loss.backward()\n",
    "        # Do the gradient descent step\n",
    "        self.optimizer.step()\n",
    "        return reward_trajectories\n",
    "    "
   ]
  },
  {
   "cell_type": "code",
   "execution_count": 12,
   "metadata": {
    "colab": {},
    "colab_type": "code",
    "id": "vZAo0K8VjCYj"
   },
   "outputs": [
    {
     "name": "stdout",
     "output_type": "stream",
     "text": [
      "Current config is:\n",
      "{'env_id': 'CartPole-v1', 'gamma': 1.0, 'learning_rate': 0.015, 'seed': 1235}\n"
     ]
    }
   ],
   "source": [
    "env_id = 'CartPole-v1'\n",
    "learning_rate = 0.015\n",
    "gamma = 1.0  # every second counts the same\n",
    "seed = 1235\n",
    "\n",
    "config = {\n",
    "    'env_id': env_id,\n",
    "    'learning_rate': learning_rate,\n",
    "    'seed': seed,\n",
    "    'gamma': gamma\n",
    "}\n",
    "\n",
    "print(\"Current config is:\")\n",
    "pprint(config)\n"
   ]
  },
  {
   "cell_type": "code",
   "execution_count": 13,
   "metadata": {
    "colab": {},
    "colab_type": "code",
    "id": "D4Ag7E3qjJas"
   },
   "outputs": [
    {
     "name": "stdout",
     "output_type": "stream",
     "text": [
      "Loss: 315.27423\n",
      "Episode 1/64: rewards 19.12 +/- 9.49\n",
      "Loss: 521.7329\n",
      "Episode 2/64: rewards 24.73 +/- 11.84\n",
      "Loss: 386.60022\n",
      "Episode 3/64: rewards 21.64 +/- 9.51\n",
      "Loss: 510.77228\n",
      "Episode 4/64: rewards 23.37 +/- 13.92\n",
      "Loss: 580.80133\n",
      "Episode 5/64: rewards 24.76 +/- 15.26\n",
      "Loss: 520.22894\n",
      "Episode 6/64: rewards 24.04 +/- 13.38\n",
      "Loss: 558.75836\n",
      "Episode 7/64: rewards 25.52 +/- 12.8\n",
      "Loss: 622.01666\n",
      "Episode 8/64: rewards 26.6 +/- 14.45\n",
      "Loss: 740.3721\n",
      "Episode 9/64: rewards 28.71 +/- 16.4\n",
      "Loss: 964.107\n",
      "Episode 10/64: rewards 32.19 +/- 19.85\n",
      "Loss: 1108.002\n",
      "Episode 11/64: rewards 32.95 +/- 23.93\n",
      "Loss: 1111.6567\n",
      "Episode 12/64: rewards 34.43 +/- 21.95\n",
      "Loss: 908.49414\n",
      "Episode 13/64: rewards 32.32 +/- 17.95\n",
      "Loss: 1045.6062\n",
      "Episode 14/64: rewards 35.4 +/- 18.0\n",
      "Loss: 1198.4823\n",
      "Episode 15/64: rewards 37.68 +/- 20.54\n",
      "Loss: 1046.5044\n",
      "Episode 16/64: rewards 35.75 +/- 18.17\n",
      "Loss: 1075.5834\n",
      "Episode 17/64: rewards 36.16 +/- 18.48\n",
      "Loss: 1223.8119\n",
      "Episode 18/64: rewards 38.48 +/- 20.45\n",
      "Loss: 1658.1143\n",
      "Episode 19/64: rewards 43.35 +/- 26.54\n",
      "Loss: 1474.7821\n",
      "Episode 20/64: rewards 42.77 +/- 22.29\n",
      "Loss: 1296.2067\n",
      "Episode 21/64: rewards 41.8 +/- 17.36\n",
      "Loss: 1466.902\n",
      "Episode 22/64: rewards 42.68 +/- 22.25\n",
      "Loss: 1585.6609\n",
      "Episode 23/64: rewards 45.37 +/- 22.09\n",
      "Loss: 2203.3499\n",
      "Episode 24/64: rewards 53.69 +/- 26.25\n",
      "Loss: 2504.766\n",
      "Episode 25/64: rewards 55.01 +/- 32.45\n",
      "Loss: 2836.0923\n",
      "Episode 26/64: rewards 61.56 +/- 29.44\n",
      "Loss: 3081.7432\n",
      "Episode 27/64: rewards 62.01 +/- 35.74\n",
      "Loss: 5043.2134\n",
      "Episode 28/64: rewards 79.73 +/- 47.23\n",
      "Loss: 3511.9473\n",
      "Episode 29/64: rewards 66.47 +/- 39.52\n",
      "Loss: 3380.1147\n",
      "Episode 30/64: rewards 69.31 +/- 32.61\n",
      "Loss: 4506.636\n",
      "Episode 31/64: rewards 79.59 +/- 40.41\n",
      "Loss: 6070.8706\n",
      "Episode 32/64: rewards 92.68 +/- 46.72\n",
      "Loss: 7249.139\n",
      "Episode 33/64: rewards 104.37 +/- 46.05\n",
      "Loss: 7793.4917\n",
      "Episode 34/64: rewards 112.09 +/- 38.79\n",
      "Loss: 7610.3677\n",
      "Episode 35/64: rewards 110.93 +/- 40.93\n",
      "Loss: 8999.748\n",
      "Episode 36/64: rewards 123.97 +/- 35.54\n",
      "Loss: 10140.078\n",
      "Episode 37/64: rewards 132.51 +/- 38.22\n",
      "Loss: 9560.032\n",
      "Episode 38/64: rewards 129.53 +/- 37.4\n",
      "Loss: 11307.697\n",
      "Episode 39/64: rewards 140.39 +/- 46.09\n",
      "Loss: 11550.833\n",
      "Episode 40/64: rewards 143.15 +/- 45.39\n",
      "Loss: 11215.28\n",
      "Episode 41/64: rewards 139.75 +/- 51.63\n",
      "Loss: 10564.065\n",
      "Episode 42/64: rewards 140.83 +/- 36.97\n",
      "Loss: 10986.353\n",
      "Episode 43/64: rewards 143.57 +/- 39.73\n",
      "Loss: 11400.541\n",
      "Episode 44/64: rewards 148.44 +/- 38.97\n",
      "Loss: 15552.787\n",
      "Episode 45/64: rewards 175.03 +/- 47.7\n",
      "Loss: 18317.928\n",
      "Episode 46/64: rewards 187.67 +/- 62.78\n",
      "Loss: 20243.656\n",
      "Episode 47/64: rewards 199.76 +/- 68.18\n",
      "Loss: 18813.236\n",
      "Episode 48/64: rewards 193.96 +/- 64.07\n",
      "Loss: 20091.488\n",
      "Episode 49/64: rewards 206.13 +/- 56.31\n",
      "Loss: 21228.467\n",
      "Episode 50/64: rewards 211.04 +/- 61.07\n",
      "Loss: 26279.984\n",
      "Episode 51/64: rewards 229.6 +/- 82.06\n",
      "Loss: 22702.516\n",
      "Episode 52/64: rewards 220.37 +/- 57.05\n",
      "Loss: 23517.572\n",
      "Episode 53/64: rewards 221.63 +/- 64.69\n",
      "Loss: 23319.107\n",
      "Episode 54/64: rewards 219.77 +/- 70.45\n",
      "Loss: 26258.854\n",
      "Episode 55/64: rewards 235.28 +/- 67.82\n",
      "Loss: 30437.758\n",
      "Episode 56/64: rewards 254.31 +/- 76.93\n",
      "Loss: 40093.61\n",
      "Episode 57/64: rewards 295.2 +/- 80.66\n",
      "Loss: 45095.59\n",
      "Episode 58/64: rewards 300.99 +/- 120.0\n",
      "Loss: 56874.44\n",
      "Episode 59/64: rewards 340.13 +/- 127.38\n",
      "Loss: 63817.367\n",
      "Episode 60/64: rewards 362.93 +/- 131.33\n",
      "Loss: 79435.46\n",
      "Episode 61/64: rewards 413.24 +/- 120.78\n",
      "Loss: 90507.73\n",
      "Episode 62/64: rewards 448.97 +/- 85.42\n",
      "Loss: 92207.65\n",
      "Episode 63/64: rewards 454.45 +/- 73.56\n",
      "Loss: 108267.02\n",
      "Episode 64/64: rewards 498.25 +/- 15.03\n"
     ]
    },
    {
     "data": {
      "image/png": "[encoded data removed]",
      "text/plain": [
       "<Figure size 432x288 with 1 Axes>"
      ]
     },
     "metadata": {
      "needs_background": "light"
     },
     "output_type": "display_data"
    }
   ],
   "source": [
    "agent = REINFORCE(config)\n",
    "\n",
    "agent.train(n_trajectories=75, n_update=64)"
   ]
  },
  {
   "cell_type": "markdown",
   "metadata": {
    "colab_type": "text",
    "id": "q3_dvBl8jUc3"
   },
   "source": [
    "Now, we evaluate the agent over multiple episodes:"
   ]
  },
  {
   "cell_type": "code",
   "execution_count": 14,
   "metadata": {
    "colab": {},
    "colab_type": "code",
    "id": "aPyqbIiCjO_-"
   },
   "outputs": [
    {
     "data": {
      "text/html": [
       "<video src=\"gym-results/openaigym.video.2.14362.video000000.mp4\" controls  >\n",
       "      Your browser does not support the <code>video</code> element.\n",
       "    </video>"
      ],
      "text/plain": [
       "<IPython.core.display.Video object>"
      ]
     },
     "metadata": {},
     "output_type": "display_data"
    },
    {
     "name": "stdout",
     "output_type": "stream",
     "text": [
      "Reward: 500.0\n"
     ]
    }
   ],
   "source": [
    "agent.evaluate(render=True)"
   ]
  },
  {
   "cell_type": "markdown",
   "metadata": {
    "colab_type": "text",
    "id": "LHM2_CRFkNoA"
   },
   "source": [
    "## Policy Evaluation as Supervised Learning\n",
    "\n",
    "**Q2: Implement batched gradient algorithm**\n",
    "\n",
    "Define network for Q-function (ValueNetwork) and policy (ActorNetwork)\n"
   ]
  },
  {
   "cell_type": "code",
   "execution_count": 15,
   "metadata": {
    "colab": {},
    "colab_type": "code",
    "id": "W9sxcz_eKF1M"
   },
   "outputs": [],
   "source": [
    "class ValueNetwork(nn.Module):\n",
    "\n",
    "    def __init__(self, input_size, hidden_size, output_size):\n",
    "        super(ValueNetwork, self).__init__()\n",
    "        self.fc1 = nn.Linear(input_size, hidden_size)\n",
    "        self.fc2 = nn.Linear(hidden_size, hidden_size)\n",
    "        self.fc3 = nn.Linear(hidden_size, output_size)\n",
    "\n",
    "    def forward(self, x):\n",
    "        out = F.relu(self.fc1(x))\n",
    "        out = F.relu(self.fc2(out))\n",
    "        out = self.fc3(out)\n",
    "        return out\n",
    "    \n",
    "    def predict(self, x):\n",
    "        return self(x).detach().numpy()[0]"
   ]
  },
  {
   "cell_type": "code",
   "execution_count": 16,
   "metadata": {
    "colab": {},
    "colab_type": "code",
    "id": "1GKxKzs5khxM"
   },
   "outputs": [],
   "source": [
    "class ActorNetwork(nn.Module):\n",
    "\n",
    "    def __init__(self, input_size, hidden_size, action_size):\n",
    "        super(ActorNetwork, self).__init__()\n",
    "        self.fc1 = nn.Linear(input_size, hidden_size)\n",
    "        self.fc2 = nn.Linear(hidden_size, hidden_size)\n",
    "        self.fc3 = nn.Linear(hidden_size, action_size)\n",
    "\n",
    "    def forward(self, x):\n",
    "        out = F.relu(self.fc1(x))\n",
    "        out = F.relu(self.fc2(out))\n",
    "        out = F.softmax(self.fc3(out), dim=-1)\n",
    "        return out\n",
    "    \n",
    "    def select_action(self, x):\n",
    "        return torch.multinomial(self(x), 1).detach().numpy()"
   ]
  },
  {
   "cell_type": "markdown",
   "metadata": {
    "colab_type": "text",
    "id": "aBpNVkaAKLQz"
   },
   "source": [
    "Implement your (batched) gradient algorithm\n",
    "\n"
   ]
  },
  {
   "cell_type": "code",
   "execution_count": null,
   "metadata": {
    "colab": {},
    "colab_type": "code",
    "id": "QQ4Wu5B5KIIO"
   },
   "outputs": [],
   "source": [
    "class EvalAgent:\n",
    "\n",
    "    def __init__(self, config, policy):\n",
    "        self.config = config\n",
    "        self.env = gym.make(config['env_id'])\n",
    "        make_seed(config['seed'])\n",
    "        self.env.seed(config['seed'])\n",
    "        self.monitor_env = Monitor(self.env, \"./gym-results\", force=True, video_callable=lambda episode: True)\n",
    "        self.gamma = config['gamma']\n",
    "        self.policy = policy\n",
    "\n",
    "        # Our network\n",
    "        self.value_network = ValueNetwork(self.env.observation_space.shape[0], 16, 1)\n",
    "\n",
    "        # optimizers\n",
    "        self.value_network_optimizer = optim.RMSprop(self.value_network.parameters(), \n",
    "                                                   lr=config['value_network']['learning_rate'])\n",
    "    \n",
    "    def _returns_advantages(self, rewards, dones, next_value):\n",
    "        \"\"\"Returns the cumulative discounted rewards at each time step\n",
    "\n",
    "        Parameters\n",
    "        ----------\n",
    "        rewards : array\n",
    "            An array of shape (batch_size,) containing the rewards given by the env\n",
    "        dones : array\n",
    "            An array of shape (batch_size,) containing the done bool indicator given by the env\n",
    "        next_value : float\n",
    "            The value of the next state given by the value network\n",
    "\n",
    "        Returns\n",
    "        -------\n",
    "        returns : array\n",
    "            The cumulative discounted rewards\n",
    "        \"\"\"\n",
    "        return NotImplementedError\n",
    "    \n",
    "    \n",
    "    def optimize_model(self, observations, actions, returns, advantages):\n",
    "        \"\"\"Perform a gradient update using provided transitions\n",
    "\n",
    "        Parameters\n",
    "        ----------\n",
    "        observations : array\n",
    "            The observations\n",
    "        actions : array\n",
    "            The actions\n",
    "        returns : array\n",
    "            The returns from each state\n",
    "\n",
    "        Returns\n",
    "        -------\n",
    "        loss_value: int\n",
    "            The loss value\n",
    "        \"\"\"\n",
    "        actions = F.one_hot(torch.tensor(actions), self.env.action_space.n)\n",
    "        returns = torch.tensor(returns[:, None], dtype=torch.float)\n",
    "        observations = torch.tensor(observations, dtype=torch.float)\n",
    "        \n",
    "        # TODO\n",
    "        return NotImplementedError\n",
    "    \n",
    "    def training_batch(self, epochs, batch_size):\n",
    "        \"\"\"Perform a training by batch\n",
    "\n",
    "        Parameters\n",
    "        ----------\n",
    "        epochs : int\n",
    "            Number of epochs\n",
    "        batch_size : int\n",
    "            The size of a batch\n",
    "        \"\"\"\n",
    "        episode_count = 0\n",
    "        actions = np.empty((batch_size,), dtype=np.int)\n",
    "        dones = np.empty((batch_size,), dtype=np.bool)\n",
    "        rewards, values = np.empty((2, batch_size), dtype=np.float)\n",
    "        observations = np.empty((batch_size,) + self.env.observation_space.shape, dtype=np.float)\n",
    "        observation = self.env.reset()\n",
    "        mse_test = []\n",
    "\n",
    "        for epoch in range(epochs):\n",
    "            # Lets collect one batch\n",
    "            for i in range(batch_size):\n",
    "                observations[i] = #TODO\n",
    "                values[i] =  #TODO\n",
    "                actions[i] = #TODO\n",
    "\n",
    "                # step\n",
    "\n",
    "                if dones[i]:\n",
    "                    observation = self.env.reset()\n",
    "\n",
    "            # If our epiosde didn't end on the last step we need to compute the value for the last state\n",
    "            if dones[-1]:\n",
    "                next_value = 0\n",
    "            else:\n",
    "                next_value = #TODO\n",
    "\n",
    "            # Update episode_count\n",
    "            episode_count += sum(dones)\n",
    "\n",
    "            # Compute returns\n",
    "            returns = self._returns_advantages(rewards, dones, next_value)\n",
    "\n",
    "            # Learning step !\n",
    "            self.optimize_model(observations, actions, returns)\n",
    "\n",
    "            # Test it every 50 epochs\n",
    "            if epoch % 25 == 0 or epoch == epochs - 1:\n",
    "                L = []\n",
    "                for _ in range(10):\n",
    "                    obs_states, y_mc = self.evaluate()\n",
    "                    y_hat = # compute prediction\n",
    "                    err = y_mc - y_hat\n",
    "                    mse = np.mean(err*2)\n",
    "                    L.append(mse.item())\n",
    "                mse_test.append(L)\n",
    "                print(f'Epoch {epoch}/{epochs}: MSE: {np.mean(mse)}')\n",
    "\n",
    "                observation = self.env.reset()\n",
    "\n",
    "        # Plotting\n",
    "        r = pd.DataFrame((itertools.chain(*(itertools.product([i], mse_test[i]) for i in range(len(mse_test))))), columns=['Epoch', 'MSE'])\n",
    "        sns.lineplot(x=\"Epoch\", y=\"MSE\", data=r, ci='sd');\n",
    "\n",
    "        print(f'The trainnig was done over a total of {episode_count} episodes')\n",
    "\n",
    "    def evaluate(self, render=False):\n",
    "        \"\"\"Returns the observations and the estimated V-function (using first visit Monte-Carlo)\n",
    "\n",
    "        Parameters\n",
    "        ----------\n",
    "        rewards : array\n",
    "            An array of shape (batch_size,) containing the rewards given by the env\n",
    "        dones : array\n",
    "            An array of shape (batch_size,) containing the done bool indicator given by the env\n",
    "        values : array\n",
    "            An array of shape (batch_size,) containing the values given by the value network\n",
    "        next_value : float\n",
    "            The value of the next state given by the value network\n",
    "\n",
    "        Returns\n",
    "        -------\n",
    "        states : array\n",
    "            Observations\n",
    "        returns : array\n",
    "            The estimate value function of each state\n",
    "        \"\"\"\n",
    "        env = self.monitor_env if render else self.env\n",
    "        observation = env.reset()\n",
    "        states = [observation.copy()]\n",
    "        rewards= []\n",
    "        observation = torch.tensor(observation, dtype=torch.float)\n",
    "        done = False\n",
    "        steps = 0\n",
    "\n",
    "        while not done:\n",
    "            action = # TODO\n",
    "            observation, reward, done, info = env.step(int(action))\n",
    "            for i in range(steps):\n",
    "                rewards[i] = rewards[i] + math.pow(self.gamma, steps-i)*reward\n",
    "            rewards.append(reward)\n",
    "            if not done:\n",
    "                states.append(observation.copy())\n",
    "            observation = torch.tensor(observation, dtype=torch.float)\n",
    "            steps += 1\n",
    "\n",
    "        env.close()\n",
    "        if render:\n",
    "            show_video(\"./gym-results\")\n",
    "            print(f'Reward: {reward_episode}')\n",
    "        states = np.array(states).reshape(-1, self.env.observation_space.shape[0])\n",
    "        returns = np.array(rewards).reshape(-1,1)\n",
    "        return states, returns"
   ]
  },
  {
   "cell_type": "markdown",
   "metadata": {
    "colab_type": "text",
    "id": "IY1VIUHLNKn3"
   },
   "source": [
    "Define configuration"
   ]
  },
  {
   "cell_type": "code",
   "execution_count": null,
   "metadata": {
    "colab": {},
    "colab_type": "code",
    "id": "Fvc-7jXDNNkG"
   },
   "outputs": [],
   "source": [
    "env_id = 'CartPole-v1'\n",
    "value_learning_rate = 0.001\n",
    "gamma = 0.99\n",
    "seed = 1\n",
    "\n",
    "config_td = {\n",
    "    'env_id': env_id,\n",
    "    'gamma': gamma,\n",
    "    'seed': seed,\n",
    "    'value_network': {'learning_rate': value_learning_rate, 'reference': './CartPole_value.pt'}\n",
    "}\n",
    "\n",
    "print(\"Current config_td is:\")\n",
    "pprint(config_td)\n"
   ]
  },
  {
   "cell_type": "markdown",
   "metadata": {
    "colab_type": "text",
    "id": "d2lRnaF3NPyy"
   },
   "source": [
    "Create policy"
   ]
  },
  {
   "cell_type": "code",
   "execution_count": null,
   "metadata": {
    "colab": {},
    "colab_type": "code",
    "id": "NkbHK_lXNShg"
   },
   "outputs": [],
   "source": [
    "env = gym.make(config_td['env_id'])\n",
    "policy = ActorNetwork(env.observation_space.shape[0], 16, env.action_space.n)\n",
    "policy.load_state_dict(torch.load('./mva_hands_on/data/CartPole_actor.pt'))\n",
    "state = torch.tensor(np.array(env.reset(), dtype=np.float32))\n",
    "print(\"pi(state) = \", policy.select_action(state))\n",
    "del env"
   ]
  },
  {
   "cell_type": "markdown",
   "metadata": {
    "colab_type": "text",
    "id": "Y51M4EgtNU7Z"
   },
   "source": [
    "Run agent"
   ]
  },
  {
   "cell_type": "code",
   "execution_count": null,
   "metadata": {
    "colab": {},
    "colab_type": "code",
    "id": "4PFvnYLnNGvX"
   },
   "outputs": [],
   "source": [
    "agent = EvalAgent(config=config_td, policy=policy)\n",
    "agent.training_batch(epochs=1000, batch_size=256)"
   ]
  },
  {
   "cell_type": "markdown",
   "metadata": {
    "colab_type": "text",
    "id": "03as0wkuja2A"
   },
   "source": [
    "## Advantage Actor Critic (A2C)\n",
    "**Q3: Implement the A2C method**\n",
    "\n",
    "As usual we provide a structure you can use as starting point.\n",
    "\n",
    "\n",
    "\n",
    "**Note:** try to reuse previous parts of previous code.\n",
    "\n"
   ]
  },
  {
   "cell_type": "code",
   "execution_count": null,
   "metadata": {
    "colab": {},
    "colab_type": "code",
    "id": "G4EmYpAsjhKh"
   },
   "outputs": [],
   "source": [
    "class A2CAgent:\n",
    "\n",
    "    def __init__(self, config):\n",
    "        self.config = config\n",
    "        self.env = gym.make(config['env_id'])\n",
    "        make_seed(config['seed'])\n",
    "        self.env.seed(config['seed'])\n",
    "        self.monitor_env = Monitor(self.env, \"./gym-results\", force=True, video_callable=lambda episode: True)\n",
    "        self.gamma = config['gamma']\n",
    "        \n",
    "        # Our two networks\n",
    "        self.value_network = ValueNetwork(self.env.observation_space.shape[0], 16, 1)\n",
    "        self.actor_network = ActorNetwork(self.env.observation_space.shape[0], 16, self.env.action_space.n)\n",
    "        \n",
    "        # Their optimizers\n",
    "        self.value_network_optimizer = optim.RMSprop(self.value_network.parameters(), lr=config['value_network']['learning_rate'])\n",
    "        self.actor_network_optimizer = optim.RMSprop(self.actor_network.parameters(), lr=config['actor_network']['learning_rate'])\n",
    "        \n",
    "    # Hint: use it during training_batch\n",
    "    def _returns_advantages(self, rewards, dones, values, next_value):\n",
    "        \"\"\"Returns the cumulative discounted rewards at each time step\n",
    "\n",
    "        Parameters\n",
    "        ----------\n",
    "        rewards : array\n",
    "            An array of shape (batch_size,) containing the rewards given by the env\n",
    "        dones : array\n",
    "            An array of shape (batch_size,) containing the done bool indicator given by the env\n",
    "        values : array\n",
    "            An array of shape (batch_size,) containing the values given by the value network\n",
    "        next_value : float\n",
    "            The value of the next state given by the value network\n",
    "        \n",
    "        Returns\n",
    "        -------\n",
    "        returns : array\n",
    "            The cumulative discounted rewards\n",
    "        advantages : array\n",
    "            The advantages\n",
    "        \"\"\"\n",
    "        # TODO\n",
    "        return NotImplementedError\n",
    "\n",
    "    def training_batch(self, epochs, batch_size):\n",
    "        \"\"\"Perform a training by batch\n",
    "\n",
    "        Parameters\n",
    "        ----------\n",
    "        epochs : int\n",
    "            Number of epochs\n",
    "        batch_size : int\n",
    "            The size of a batch\n",
    "        \"\"\"\n",
    "        episode_count = 0\n",
    "        actions = np.empty((batch_size,), dtype=np.int)\n",
    "        dones = np.empty((batch_size,), dtype=np.bool)\n",
    "        rewards, values = np.empty((2, batch_size), dtype=np.float)\n",
    "        observations = np.empty((batch_size,) + self.env.observation_space.shape, dtype=np.float)\n",
    "        observation = self.env.reset()\n",
    "        rewards_test = []\n",
    "\n",
    "        for epoch in range(epochs):\n",
    "            # Lets collect one batch\n",
    "            \n",
    "            # If our epiosde didn't end on the last step we need to compute the value for the last state\n",
    "            \n",
    "            # Update episode_count\n",
    "            episode_count += sum(dones)\n",
    "\n",
    "            # Compute returns and advantages\n",
    "\n",
    "            # Learning step !\n",
    "\n",
    "            # Test it every 50 epochs\n",
    "            if epoch % 50 == 0 or epoch == epochs - 1:\n",
    "                rewards_test.append(np.array([self.evaluate() for _ in range(50)]))\n",
    "                print(f'Epoch {epoch}/{epochs}: Mean rewards: {round(rewards_test[-1].mean(), 2)}, Std: {round(rewards_test[-1].std(), 2)}')\n",
    "\n",
    "                # Early stopping\n",
    "                if rewards_test[-1].mean() > 490 and epoch != epochs -1:\n",
    "                    print('Early stopping !')\n",
    "                    break\n",
    "                observation = self.env.reset()\n",
    "                    \n",
    "        # Plotting\n",
    "        r = pd.DataFrame((itertools.chain(*(itertools.product([i], rewards_test[i]) for i in range(len(rewards_test))))), columns=['Epoch', 'Reward'])\n",
    "        sns.lineplot(x=\"Epoch\", y=\"Reward\", data=r, ci='sd');\n",
    "        \n",
    "        print(f'The trainnig was done over a total of {episode_count} episodes')\n",
    "\n",
    "    def optimize_model(self, observations, actions, returns, advantages):\n",
    "        actions = F.one_hot(torch.tensor(actions), self.env.action_space.n)\n",
    "        returns = torch.tensor(returns[:, None], dtype=torch.float)\n",
    "        advantages = torch.tensor(advantages, dtype=torch.float)\n",
    "        observations = torch.tensor(observations, dtype=torch.float)\n",
    "\n",
    "        # MSE for the values\n",
    "        # Actor & Entropy loss\n",
    "        \n",
    "        raise NotImplementedError\n",
    "\n",
    "    def evaluate(self, render=False):\n",
    "        env = self.monitor_env if render else self.env\n",
    "        observation = env.reset()\n",
    "        observation = torch.tensor(observation, dtype=torch.float)\n",
    "        reward_episode = 0\n",
    "        done = False\n",
    "\n",
    "        while not done:\n",
    "            policy = self.actor_network(observation)\n",
    "            action = torch.multinomial(policy, 1)\n",
    "            observation, reward, done, info = env.step(int(action))\n",
    "            observation = torch.tensor(observation, dtype=torch.float)\n",
    "            reward_episode += reward\n",
    "            \n",
    "        env.close()\n",
    "        if render:\n",
    "            show_video(\"./gym-results\")\n",
    "            print(f'Reward: {reward_episode}')\n",
    "        return reward_episode"
   ]
  },
  {
   "cell_type": "markdown",
   "metadata": {
    "colab_type": "text",
    "id": "8sEwrInsjkDH"
   },
   "source": [
    "Create configuration for A2C"
   ]
  },
  {
   "cell_type": "code",
   "execution_count": null,
   "metadata": {
    "colab": {},
    "colab_type": "code",
    "id": "OwDDx78wjmG5"
   },
   "outputs": [],
   "source": [
    "env_id = 'CartPole-v1'\n",
    "value_learning_rate = 0.001\n",
    "actor_learning_rate = 0.001\n",
    "gamma = 0.99\n",
    "entropy = 1\n",
    "seed = 1\n",
    "\n",
    "config_a2c = {\n",
    "    'env_id': env_id,\n",
    "    'gamma': gamma,\n",
    "    'seed': seed,\n",
    "    'value_network': {'learning_rate': value_learning_rate},\n",
    "    'actor_network': {'learning_rate': actor_learning_rate},\n",
    "    'entropy': entropy\n",
    "}\n",
    "\n",
    "print(\"Current config_a2c is:\")\n",
    "pprint(config_a2c)"
   ]
  },
  {
   "cell_type": "markdown",
   "metadata": {
    "colab_type": "text",
    "id": "6xW7fe-8jvzY"
   },
   "source": [
    "Run the learning agent"
   ]
  },
  {
   "cell_type": "code",
   "execution_count": null,
   "metadata": {
    "colab": {},
    "colab_type": "code",
    "id": "UrZRJ7-yjryp"
   },
   "outputs": [],
   "source": [
    "agent = A2CAgent(config_a2c)\n",
    "rewards = agent.training_batch(1000, 256)"
   ]
  },
  {
   "cell_type": "markdown",
   "metadata": {
    "colab_type": "text",
    "id": "NzuNtPqTju64"
   },
   "source": [
    "Evaluate the agent over multiple episodes"
   ]
  },
  {
   "cell_type": "code",
   "execution_count": null,
   "metadata": {
    "colab": {},
    "colab_type": "code",
    "id": "bw279M4Jj1y-"
   },
   "outputs": [],
   "source": [
    "agent.evaluate()"
   ]
  }
 ],
 "metadata": {
  "colab": {
   "collapsed_sections": [],
   "name": "MVARL19_part2.ipynb",
   "private_outputs": true,
   "provenance": [],
   "toc_visible": true
  },
  "kernelspec": {
   "display_name": "Python [conda env:torch]",
   "language": "python",
   "name": "conda-env-torch-py"
  },
  "language_info": {
   "codemirror_mode": {
    "name": "ipython",
    "version": 3
   },
   "file_extension": ".py",
   "mimetype": "text/x-python",
   "name": "python",
   "nbconvert_exporter": "python",
   "pygments_lexer": "ipython3",
   "version": "3.7.5"
  }
 },
 "nbformat": 4,
 "nbformat_minor": 4
}
