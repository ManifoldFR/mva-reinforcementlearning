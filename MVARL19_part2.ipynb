{
 "cells": [
  {
   "cell_type": "markdown",
   "metadata": {
    "colab_type": "text",
    "id": "XJ_s4_nhhiyo"
   },
   "source": [
    "# Reinforcement Learning with Function Approximation"
   ]
  },
  {
   "cell_type": "code",
   "execution_count": null,
   "metadata": {},
   "outputs": [],
   "source": [
    "!pip install torch==1.2.0 torchvision pyvirtualdisplay matplotlib seaborn pandas numpy pathlib gym\n",
    "!sudo apt-get install xvfb\n",
    "!git clone https://github.com/rlgammazero/mvarl_hands_on.git > /dev/null 2>&1\n",
    "!cd mvarl_hands_on && git pull origin master > /dev/null 2>&1"
   ]
  },
  {
   "cell_type": "code",
   "execution_count": 1,
   "metadata": {},
   "outputs": [],
   "source": [
    "import torch\n",
    "import torch.nn as nn\n",
    "import torch.nn.functional as F \n",
    "from torch import optim\n",
    "\n",
    "import numpy as np\n",
    "\n",
    "import gym\n",
    "from gym.wrappers import Monitor\n",
    "from pprint import pprint\n",
    "from pyvirtualdisplay import Display\n",
    "from IPython import display as ipythondisplay\n",
    "from IPython.display import clear_output\n",
    "\n",
    "from pathlib import Path\n",
    "import base64"
   ]
  },
  {
   "cell_type": "code",
   "execution_count": 2,
   "metadata": {
    "colab": {},
    "colab_type": "code",
    "id": "gCsyvh4NhjUc"
   },
   "outputs": [],
   "source": [
    "# The following code is will be used to visualize the environments.\n",
    "\"\"\"\n",
    "def show_video(directory):\n",
    "    html = []\n",
    "    for mp4 in Path(directory).glob(\"*.mp4\"):\n",
    "        video_b64 = base64.b64encode(mp4.read_bytes())\n",
    "        html.append('''<video alt=\"{}\" autoplay \n",
    "                      loop controls style=\"height: 400px;\">\n",
    "                      <source src=\"data:video/mp4;base64,{}\" type=\"video/mp4\" />\n",
    "                 </video>'''.format(mp4, video_b64.decode('ascii')))\n",
    "    ipythondisplay.display(ipythondisplay.HTML(data=\"<br>\".join(html)))\n",
    "\"\"\"\n",
    "\n",
    "def show_video(directory):\n",
    "    \"\"\"Using IPython.display.Video\"\"\"\n",
    "    all_vids = list(Path(directory).glob(\"*.mp4\"))\n",
    "    for mp4 in all_vids:\n",
    "        vid = ipythondisplay.Video(mp4)\n",
    "        ipythondisplay.display(vid)\n",
    "    \n",
    "display = Display(visible=0, size=(900, 400))\n",
    "display.start();\n",
    "\n",
    "def make_seed(seed):\n",
    "    np.random.seed(seed=seed)\n",
    "    torch.manual_seed(seed=seed)"
   ]
  },
  {
   "cell_type": "markdown",
   "metadata": {
    "colab_type": "text",
    "id": "ThnSNaSMhnXa"
   },
   "source": [
    "PyTorch is a Python package that provides two high-level features:\n",
    "- Tensor computation (like NumPy) with strong GPU acceleration\n",
    "- Deep neural networks built on a tape-based autograd system\n",
    "\n",
    "At a granular level, PyTorch is a library that consists of the following components:\n",
    "\n",
    "| Component | Description |\n",
    "| ---- | --- |\n",
    "| [**torch**](https://pytorch.org/docs/stable/torch.html) | a Tensor library like NumPy, with strong GPU support |\n",
    "| [**torch.autograd**](https://pytorch.org/docs/stable/autograd.html) | a tape-based automatic differentiation library that supports all differentiable Tensor operations in torch |\n",
    "| [**torch.jit**](https://pytorch.org/docs/stable/jit.html) | a compilation stack (TorchScript) to create serializable and optimizable models from PyTorch code  |\n",
    "| [**torch.nn**](https://pytorch.org/docs/stable/nn.html) | a neural networks library deeply integrated with autograd designed for maximum flexibility |\n",
    "| [**torch.multiprocessing**](https://pytorch.org/docs/stable/multiprocessing.html) | Python multiprocessing, but with magical memory sharing of torch Tensors across processes. Useful for data loading and Hogwild training |\n",
    "| [**torch.utils**](https://pytorch.org/docs/stable/data.html) | DataLoader and other utility functions for convenience |\n",
    "\n",
    "\n",
    "**Tutorials on PyTorch:** https://pytorch.org/tutorials/\n"
   ]
  },
  {
   "cell_type": "markdown",
   "metadata": {
    "colab_type": "text",
    "id": "WlZQl9TjhuWY"
   },
   "source": [
    "## OpenAI gym\n",
    "We will consider environments provided by OpenAI gym\n",
    "This library provides a large number of environments to test RL algorithm.\n",
    "\n",
    "We will focus on the **CartPole-v1** environment in this lab but we encourage you to also test your code on:\n",
    "* **Acrobot-v1**\n",
    "* **MountainCar-v0**\n",
    "\n",
    "| Env Info          \t| CartPole-v1 \t| Acrobot-v1                \t| MountainCar-v0 \t|\n",
    "|-------------------\t|-------------\t|---------------------------\t|----------------\t|\n",
    "| **Observation Space** \t| Box(4)      \t| Box(6)                    \t| Box(2)         \t|\n",
    "| **Action Space**      \t| Discrete(2) \t| Discrete(3)               \t| Discrete(3)    \t|\n",
    "| **Rewards**           \t| 1 per step  \t| -1 if not terminal else 0 \t| -1 per step    \t|\n",
    "\n",
    "A gym environment is loaded with the command `env = gym.make(env_id)`. Once the environment is created, you need to reset it with `observation = env.reset()` and then you can interact with it using the method step: `observation, reward, done, info = env.step(action)`."
   ]
  },
  {
   "cell_type": "code",
   "execution_count": 3,
   "metadata": {
    "colab": {},
    "colab_type": "code",
    "id": "3wfHvW9Hh4H3"
   },
   "outputs": [],
   "source": [
    "# We load CartPole-v1\n",
    "env = gym.make('CartPole-v1')\n",
    "# We wrap it in order to save our experiment on a file.\n",
    "env = Monitor(env, \"./gym-results\", force=True)"
   ]
  },
  {
   "cell_type": "code",
   "execution_count": 4,
   "metadata": {
    "colab": {},
    "colab_type": "code",
    "id": "2-fFj5sDiA0C"
   },
   "outputs": [
    {
     "data": {
      "text/html": [
       "<video src=\"gym-results/openaigym.video.0.20110.video000000.mp4\" controls  >\n",
       "      Your browser does not support the <code>video</code> element.\n",
       "    </video>"
      ],
      "text/plain": [
       "<IPython.core.display.Video object>"
      ]
     },
     "metadata": {},
     "output_type": "display_data"
    }
   ],
   "source": [
    "done = False\n",
    "obs = env.reset()\n",
    "while not done:\n",
    "    action = env.action_space.sample()\n",
    "    obs, reward, done, info = env.step(action)\n",
    "env.close()\n",
    "show_video(\"./gym-results\")"
   ]
  },
  {
   "cell_type": "markdown",
   "metadata": {
    "colab_type": "text",
    "id": "sd2xLlapilZE"
   },
   "source": [
    "## REINFORCE\n",
    "\n",
    "**Q1: Implement the REINFORCE algorithm**\n",
    "\n",
    "The code is splitted in two parts:\n",
    "* The Model class defines the architecture of our neural network which takes as input the current state and returns the policy,\n",
    "* The Agent class is responsible for the training and evaluation procedure. You will need to code the method `optimize_model`."
   ]
  },
  {
   "cell_type": "code",
   "execution_count": 5,
   "metadata": {
    "colab": {},
    "colab_type": "code",
    "id": "iwsQ8NSPiCz7"
   },
   "outputs": [],
   "source": [
    "class Model(nn.Module):\n",
    "    def __init__(self, dim_observation, n_actions):\n",
    "        super(Model, self).__init__()\n",
    "        \n",
    "        self.n_actions = n_actions\n",
    "        self.dim_observation = dim_observation\n",
    "        \n",
    "        self.net = nn.Sequential(\n",
    "            nn.Linear(in_features=self.dim_observation, out_features=16),\n",
    "            nn.ReLU(),\n",
    "            nn.Linear(in_features=16, out_features=8),\n",
    "            nn.ReLU(),\n",
    "            nn.Linear(in_features=8, out_features=self.n_actions),\n",
    "            nn.Softmax(dim=0)\n",
    "        )\n",
    "        \n",
    "    def forward(self, state):\n",
    "        return self.net(state)\n",
    "    \n",
    "    def select_action(self, state):\n",
    "        action = torch.multinomial(self.forward(state), 1)\n",
    "        return action"
   ]
  },
  {
   "cell_type": "markdown",
   "metadata": {
    "colab_type": "text",
    "id": "xrgtQMYbiwX7"
   },
   "source": [
    "Create the model based on the properties of the MDP you want to solve"
   ]
  },
  {
   "cell_type": "code",
   "execution_count": 6,
   "metadata": {
    "colab": {},
    "colab_type": "code",
    "id": "S6ieL_KJirq9"
   },
   "outputs": [
    {
     "name": "stdout",
     "output_type": "stream",
     "text": [
      "The model we created correspond to:\n",
      "Model(\n",
      "  (net): Sequential(\n",
      "    (0): Linear(in_features=4, out_features=16, bias=True)\n",
      "    (1): ReLU()\n",
      "    (2): Linear(in_features=16, out_features=8, bias=True)\n",
      "    (3): ReLU()\n",
      "    (4): Linear(in_features=8, out_features=2, bias=True)\n",
      "    (5): Softmax(dim=0)\n",
      "  )\n",
      ")\n"
     ]
    }
   ],
   "source": [
    "env_id = 'CartPole-v1'\n",
    "env = gym.make(env_id)\n",
    "model = Model(env.observation_space.shape[0], env.action_space.n)\n",
    "print(f'The model we created correspond to:\\n{model}')"
   ]
  },
  {
   "cell_type": "markdown",
   "metadata": {
    "colab_type": "text",
    "id": "WwrVF9kti1e-"
   },
   "source": [
    "We provide a base agent that you will need to extend in the next cell with your implementation of `optimize_model`."
   ]
  },
  {
   "cell_type": "code",
   "execution_count": 7,
   "metadata": {
    "colab": {},
    "colab_type": "code",
    "id": "DWvKO66ii1zh"
   },
   "outputs": [],
   "source": [
    "import pandas as pd\n",
    "import itertools\n",
    "import seaborn as sns\n",
    "\n",
    "class BaseAgent:\n",
    "    \n",
    "    def __init__(self, config):\n",
    "        self.config = config\n",
    "        self.env = gym.make(config['env_id'])\n",
    "        make_seed(config['seed'])\n",
    "        self.env.seed(config['seed'])\n",
    "        self.model = Model(self.env.observation_space.shape[0],\n",
    "                           self.env.action_space.n)\n",
    "        self.gamma = config['gamma']\n",
    "        \n",
    "        # the optimizer used by PyTorch (Stochastic Gradient, Adagrad, Adam, etc.)\n",
    "        self.optimizer = torch.optim.Adam(self.model.net.parameters(), lr=config['learning_rate'])\n",
    "        self.monitor_env = Monitor(self.env, \"./gym-results\", force=True, \n",
    "                                   video_callable=lambda episode: True)\n",
    "    \n",
    "        self.current_ep = 0\n",
    "        self.rewards = []\n",
    "    \n",
    "    # Method to implement\n",
    "    def _compute_returns(self, rewards):\n",
    "        \"\"\"Returns the cumulative discounted rewards at each time step\n",
    "\n",
    "        Parameters\n",
    "        ----------\n",
    "        rewards : array\n",
    "            The array of rewards of one episode\n",
    "\n",
    "        Returns\n",
    "        -------\n",
    "        array\n",
    "            The cumulative discounted rewards at each time step\n",
    "            \n",
    "        Example\n",
    "        -------\n",
    "        for rewards=[1, 2, 3] this method outputs [1 + 2 * gamma + 3 * gamma**2, 2 + 3 * gamma, 3] \n",
    "        \"\"\"\n",
    "        \n",
    "        raise NotImplementedError\n",
    "    \n",
    "    # Method to implement\n",
    "    def optimize_model(self, n_trajectories):\n",
    "        \"\"\"Perform a gradient update using n_trajectories\n",
    "\n",
    "        Parameters\n",
    "        ----------\n",
    "        n_trajectories : int\n",
    "            The number of trajectories used to approximate the expectation card(D) in the formula above\n",
    "        \n",
    "        Returns\n",
    "        -------\n",
    "        array\n",
    "            The cumulative discounted rewards of each trajectory\n",
    "        \"\"\"\n",
    "        \n",
    "        raise NotImplementedError\n",
    "    \n",
    "    def train(self, n_trajectories, n_update):\n",
    "        \"\"\"Training method\n",
    "\n",
    "        Parameters\n",
    "        ----------\n",
    "        n_trajectories : int\n",
    "            The number of trajectories used to approximate the expected gradient\n",
    "        n_update : int\n",
    "            The number of gradient updates\n",
    "            \n",
    "        \"\"\"\n",
    "        \n",
    "        final_update = self.current_ep + n_update\n",
    "        rewards = self.rewards  # restart the reward record\n",
    "        for episode in range(self.current_ep, final_update):\n",
    "            rewards.append(self.optimize_model(n_trajectories))\n",
    "            print(f'Episode {episode + 1}/{final_update}: rewards ' \n",
    "                  +f'{round(rewards[-1].mean(), 2)} +/- {round(rewards[-1].std(), 2)}')\n",
    "            self.current_ep += 1\n",
    "        \n",
    "        # Plotting\n",
    "        r = pd.DataFrame((itertools.chain(*(itertools.product([i], rewards[i]) for i in range(len(rewards))))), columns=['Epoch', 'Reward'])\n",
    "        sns.lineplot(x=\"Epoch\", y=\"Reward\", data=r, ci='sd');\n",
    "        \n",
    "    def evaluate(self, render=False):\n",
    "        \"\"\"Evaluate the agent on a single trajectory            \n",
    "        \"\"\"\n",
    "        \n",
    "        ## Wrap in torch.no_grad to stop the tape recorder\n",
    "        ## and stop the RAM from blowing up\n",
    "        with torch.no_grad():\n",
    "            observation = self.monitor_env.reset()\n",
    "            observation = torch.from_numpy(observation).float()\n",
    "            reward_episode = 0\n",
    "            done = False\n",
    "            while not done:\n",
    "                action = self.model.select_action(observation)\n",
    "                observation, reward, done, info = self.monitor_env.step(int(action))\n",
    "                observation = torch.from_numpy(observation).float()\n",
    "                reward_episode = self.gamma * reward_episode + reward\n",
    "        self.monitor_env.close()\n",
    "        if render:\n",
    "            show_video(\"./gym-results\")\n",
    "        print(f'Reward: {reward_episode}')\n",
    "        "
   ]
  },
  {
   "cell_type": "markdown",
   "metadata": {
    "colab_type": "text",
    "id": "Y6mhw_A3i_8R"
   },
   "source": [
    "Finally you can implement your agent"
   ]
  },
  {
   "cell_type": "markdown",
   "metadata": {},
   "source": [
    "**Recall** The REINFORCE algorithm uses an unbiased estimate of the gradient of\n",
    "$$\n",
    "    J(\\pi_\\theta) = \\mathbb E_{\\tau\\sim \\mathbb P_\\theta}\\left[ R(\\tau) \\right]\n",
    "    = \\mathbb E_\\tau \\left[\n",
    "        \\sum_{t=0}^T \\gamma^t r_t\n",
    "    \\right]\n",
    "$$\n",
    "which has exact gradient\n",
    "$$\n",
    "    \\nabla_\\theta J(\\pi_\\theta) = \\mathbb E_{\\tau\\sim\\mathbb P_\\theta}\n",
    "    \\left[ R(\\tau)\\nabla_\\theta \\log \\pi_\\theta \\right] =\n",
    "    \\mathbb E_\\tau\\left[\n",
    "    \\left(\\sum_{t=0}^T \\gamma^t r_t\\right)\n",
    "    \\left(\\sum_{t=0}^T \\nabla_\\theta\\log \\pi_\\theta(s_t, a_t) \\right)\n",
    "    \\right]\n",
    "$$\n",
    "\n",
    "We introduce the pseudo-likelihood\n",
    "$$\n",
    "    L(\\theta) = \\frac{1}{M}\\sum_{i=1}^M\n",
    "    \\left(\\sum_{t=0}^T \\gamma^t r^i_t\\right)\n",
    "    \\left(\\sum_{t=0}^T \\log \\pi_\\theta(s^i_t, a^i_t) \\right) \\geq 0\n",
    "$$\n",
    "so that\n",
    "$$\n",
    "    \\nabla_\\theta L(\\theta)\n",
    "$$\n",
    "is an unbiased estimate of the policy gradient $\\nabla_\\theta J(\\theta)$."
   ]
  },
  {
   "cell_type": "code",
   "execution_count": 8,
   "metadata": {
    "colab": {},
    "colab_type": "code",
    "id": "lbjP-7WHi9oc"
   },
   "outputs": [],
   "source": [
    "class REINFORCE(BaseAgent):\n",
    "    \n",
    "    def _compute_returns(self, rewards):\n",
    "        num_rew = len(rewards)\n",
    "        exponents = np.arange(num_rew)\n",
    "        gammas = np.power(self.gamma, exponents)\n",
    "        \n",
    "        return rewards.dot(gammas)\n",
    "    \n",
    "        \n",
    "    def optimize_model(self, n_trajectories):\n",
    "\n",
    "        env = self.env\n",
    "        reward_trajectories = np.empty(n_trajectories)\n",
    "        loss = 0.\n",
    "        \n",
    "        for i in range(n_trajectories):\n",
    "            traj_rewards = []  # rewards of the trajectory\n",
    "            traj_proba = 0.  # sum of log-probabilities of trajectory\n",
    "            \n",
    "            # Build trajectory\n",
    "            done = False\n",
    "            obs = env.reset()\n",
    "            obs = torch.from_numpy(obs).float()  # state s0\n",
    "            while not done:\n",
    "                action = self.model.select_action(obs)  # can be cast to int for action idx\n",
    "                # Get proba\n",
    "                prob = self.model(obs)[int(action)]\n",
    "                traj_proba += torch.log(prob)\n",
    "                \n",
    "                obs, reward, done, info = env.step(int(action))\n",
    "                \n",
    "                obs = torch.from_numpy(obs).float()\n",
    "                # Store the new reward\n",
    "                traj_rewards.append(reward)\n",
    "                \n",
    "                \n",
    "            traj_rewards = np.array(traj_rewards)  # NumPy array\n",
    "            \n",
    "            # Get total reward\n",
    "            total_reward = self._compute_returns(traj_rewards)  # NumPy array\n",
    "            reward_trajectories[i] = total_reward\n",
    "            \n",
    "            loss = loss + total_reward * traj_proba / n_trajectories  # accumulate the negative criterion\n",
    "        \n",
    "        env.close()  # important\n",
    "        \n",
    "        loss = -loss\n",
    "        \n",
    "        # The following lines take care of the gradient descent step for the variable loss\n",
    "        # that you need to compute.\n",
    "        print(\"Loss:\", loss.data.numpy())\n",
    "        \n",
    "        # Discard previous gradients\n",
    "        self.optimizer.zero_grad()\n",
    "        # Compute the gradient \n",
    "        loss.backward()\n",
    "        # Do the gradient descent step\n",
    "        self.optimizer.step()\n",
    "        return reward_trajectories\n",
    "    "
   ]
  },
  {
   "cell_type": "code",
   "execution_count": 9,
   "metadata": {
    "colab": {},
    "colab_type": "code",
    "id": "vZAo0K8VjCYj"
   },
   "outputs": [
    {
     "name": "stdout",
     "output_type": "stream",
     "text": [
      "Current config is:\n",
      "{'env_id': 'CartPole-v1', 'gamma': 1.0, 'learning_rate': 0.015, 'seed': 1235}\n"
     ]
    }
   ],
   "source": [
    "env_id = 'CartPole-v1'\n",
    "learning_rate = 0.015\n",
    "gamma = 1.0  # every second counts the same\n",
    "seed = 1235\n",
    "\n",
    "config = {\n",
    "    'env_id': env_id,\n",
    "    'learning_rate': learning_rate,\n",
    "    'seed': seed,\n",
    "    'gamma': gamma\n",
    "}\n",
    "\n",
    "print(\"Current config is:\")\n",
    "pprint(config)\n"
   ]
  },
  {
   "cell_type": "code",
   "execution_count": 10,
   "metadata": {
    "colab": {},
    "colab_type": "code",
    "id": "D4Ag7E3qjJas"
   },
   "outputs": [
    {
     "name": "stdout",
     "output_type": "stream",
     "text": [
      "Loss: 315.27423\n",
      "Episode 1/64: rewards 19.12 +/- 9.49\n",
      "Loss: 521.7329\n",
      "Episode 2/64: rewards 24.73 +/- 11.84\n",
      "Loss: 386.60022\n",
      "Episode 3/64: rewards 21.64 +/- 9.51\n",
      "Loss: 510.77228\n",
      "Episode 4/64: rewards 23.37 +/- 13.92\n",
      "Loss: 580.80133\n",
      "Episode 5/64: rewards 24.76 +/- 15.26\n",
      "Loss: 520.22894\n",
      "Episode 6/64: rewards 24.04 +/- 13.38\n",
      "Loss: 558.75836\n",
      "Episode 7/64: rewards 25.52 +/- 12.8\n",
      "Loss: 622.01666\n",
      "Episode 8/64: rewards 26.6 +/- 14.45\n",
      "Loss: 740.3721\n",
      "Episode 9/64: rewards 28.71 +/- 16.4\n",
      "Loss: 964.107\n",
      "Episode 10/64: rewards 32.19 +/- 19.85\n",
      "Loss: 1108.002\n",
      "Episode 11/64: rewards 32.95 +/- 23.93\n",
      "Loss: 1111.6567\n",
      "Episode 12/64: rewards 34.43 +/- 21.95\n",
      "Loss: 908.49414\n",
      "Episode 13/64: rewards 32.32 +/- 17.95\n",
      "Loss: 1045.6062\n",
      "Episode 14/64: rewards 35.4 +/- 18.0\n",
      "Loss: 1198.4823\n",
      "Episode 15/64: rewards 37.68 +/- 20.54\n",
      "Loss: 1046.5044\n",
      "Episode 16/64: rewards 35.75 +/- 18.17\n",
      "Loss: 1075.5834\n",
      "Episode 17/64: rewards 36.16 +/- 18.48\n",
      "Loss: 1223.8119\n",
      "Episode 18/64: rewards 38.48 +/- 20.45\n",
      "Loss: 1658.1143\n",
      "Episode 19/64: rewards 43.35 +/- 26.54\n",
      "Loss: 1474.7821\n",
      "Episode 20/64: rewards 42.77 +/- 22.29\n",
      "Loss: 1296.2067\n",
      "Episode 21/64: rewards 41.8 +/- 17.36\n",
      "Loss: 1466.902\n",
      "Episode 22/64: rewards 42.68 +/- 22.25\n",
      "Loss: 1585.6609\n",
      "Episode 23/64: rewards 45.37 +/- 22.09\n",
      "Loss: 2203.3499\n",
      "Episode 24/64: rewards 53.69 +/- 26.25\n",
      "Loss: 2504.766\n",
      "Episode 25/64: rewards 55.01 +/- 32.45\n",
      "Loss: 2836.0923\n",
      "Episode 26/64: rewards 61.56 +/- 29.44\n",
      "Loss: 3081.7432\n",
      "Episode 27/64: rewards 62.01 +/- 35.74\n",
      "Loss: 5043.2134\n",
      "Episode 28/64: rewards 79.73 +/- 47.23\n",
      "Loss: 3511.9473\n",
      "Episode 29/64: rewards 66.47 +/- 39.52\n",
      "Loss: 3380.1147\n",
      "Episode 30/64: rewards 69.31 +/- 32.61\n",
      "Loss: 4506.636\n",
      "Episode 31/64: rewards 79.59 +/- 40.41\n",
      "Loss: 6070.8706\n",
      "Episode 32/64: rewards 92.68 +/- 46.72\n",
      "Loss: 7249.139\n",
      "Episode 33/64: rewards 104.37 +/- 46.05\n",
      "Loss: 7793.4917\n",
      "Episode 34/64: rewards 112.09 +/- 38.79\n",
      "Loss: 7610.3677\n",
      "Episode 35/64: rewards 110.93 +/- 40.93\n",
      "Loss: 8999.748\n",
      "Episode 36/64: rewards 123.97 +/- 35.54\n",
      "Loss: 10140.078\n",
      "Episode 37/64: rewards 132.51 +/- 38.22\n",
      "Loss: 9560.032\n",
      "Episode 38/64: rewards 129.53 +/- 37.4\n",
      "Loss: 11307.697\n",
      "Episode 39/64: rewards 140.39 +/- 46.09\n",
      "Loss: 11550.833\n",
      "Episode 40/64: rewards 143.15 +/- 45.39\n",
      "Loss: 11215.28\n",
      "Episode 41/64: rewards 139.75 +/- 51.63\n",
      "Loss: 10564.065\n",
      "Episode 42/64: rewards 140.83 +/- 36.97\n",
      "Loss: 10986.353\n",
      "Episode 43/64: rewards 143.57 +/- 39.73\n",
      "Loss: 11400.541\n",
      "Episode 44/64: rewards 148.44 +/- 38.97\n",
      "Loss: 15552.787\n",
      "Episode 45/64: rewards 175.03 +/- 47.7\n",
      "Loss: 18317.928\n",
      "Episode 46/64: rewards 187.67 +/- 62.78\n",
      "Loss: 20243.656\n",
      "Episode 47/64: rewards 199.76 +/- 68.18\n",
      "Loss: 18813.236\n",
      "Episode 48/64: rewards 193.96 +/- 64.07\n",
      "Loss: 20091.488\n",
      "Episode 49/64: rewards 206.13 +/- 56.31\n",
      "Loss: 21228.467\n",
      "Episode 50/64: rewards 211.04 +/- 61.07\n",
      "Loss: 26279.984\n",
      "Episode 51/64: rewards 229.6 +/- 82.06\n",
      "Loss: 22702.516\n",
      "Episode 52/64: rewards 220.37 +/- 57.05\n",
      "Loss: 23517.572\n",
      "Episode 53/64: rewards 221.63 +/- 64.69\n",
      "Loss: 23319.107\n",
      "Episode 54/64: rewards 219.77 +/- 70.45\n",
      "Loss: 26258.854\n",
      "Episode 55/64: rewards 235.28 +/- 67.82\n",
      "Loss: 30437.758\n",
      "Episode 56/64: rewards 254.31 +/- 76.93\n",
      "Loss: 40093.61\n",
      "Episode 57/64: rewards 295.2 +/- 80.66\n",
      "Loss: 45095.59\n",
      "Episode 58/64: rewards 300.99 +/- 120.0\n",
      "Loss: 56874.44\n",
      "Episode 59/64: rewards 340.13 +/- 127.38\n",
      "Loss: 63817.367\n",
      "Episode 60/64: rewards 362.93 +/- 131.33\n",
      "Loss: 79435.46\n",
      "Episode 61/64: rewards 413.24 +/- 120.78\n",
      "Loss: 90507.73\n",
      "Episode 62/64: rewards 448.97 +/- 85.42\n",
      "Loss: 92207.65\n",
      "Episode 63/64: rewards 454.45 +/- 73.56\n",
      "Loss: 108267.02\n",
      "Episode 64/64: rewards 498.25 +/- 15.03\n"
     ]
    },
    {
     "data": {
      "image/png": "[encoded data removed]",
      "text/plain": [
       "<Figure size 432x288 with 1 Axes>"
      ]
     },
     "metadata": {
      "needs_background": "light"
     },
     "output_type": "display_data"
    }
   ],
   "source": [
    "agent = REINFORCE(config)\n",
    "\n",
    "agent.train(n_trajectories=75, n_update=64)"
   ]
  },
  {
   "cell_type": "markdown",
   "metadata": {
    "colab_type": "text",
    "id": "q3_dvBl8jUc3"
   },
   "source": [
    "Now, we evaluate the agent over multiple episodes:"
   ]
  },
  {
   "cell_type": "code",
   "execution_count": 11,
   "metadata": {
    "colab": {},
    "colab_type": "code",
    "id": "aPyqbIiCjO_-"
   },
   "outputs": [
    {
     "data": {
      "text/html": [
       "<video src=\"gym-results/openaigym.video.1.24149.video000000.mp4\" controls  >\n",
       "      Your browser does not support the <code>video</code> element.\n",
       "    </video>"
      ],
      "text/plain": [
       "<IPython.core.display.Video object>"
      ]
     },
     "metadata": {},
     "output_type": "display_data"
    },
    {
     "name": "stdout",
     "output_type": "stream",
     "text": [
      "Reward: 500.0\n"
     ]
    }
   ],
   "source": [
    "agent.evaluate(render=True)"
   ]
  },
  {
   "cell_type": "code",
   "execution_count": 12,
   "metadata": {},
   "outputs": [],
   "source": [
    "import os\n",
    "import datetime\n",
    "\n",
    "# Save the model\n",
    "datetag = datetime.datetime.now().strftime(\"%d%m%Y-%H%M%S\")\n",
    "\n",
    "PATH = f\"saved_models/reinforce_{datetag}.pth\"\n",
    "PATH\n",
    "\n",
    "torch.save(model.state_dict(), PATH)"
   ]
  },
  {
   "cell_type": "markdown",
   "metadata": {
    "colab_type": "text",
    "id": "LHM2_CRFkNoA"
   },
   "source": [
    "## Policy Evaluation as Supervised Learning\n",
    "\n",
    "**Q2: Implement batched gradient algorithm**\n",
    "\n",
    "Define network for value function (ValueNetwork) and policy (ActorNetwork)\n"
   ]
  },
  {
   "cell_type": "markdown",
   "metadata": {},
   "source": [
    "The `ValueNetwork` is an estimate $v_\\nu$ (parameterized by $\\nu \\in \\mathcal V$) of the value function $V^{\\pi_\\theta}$ of the current policy model $\\pi_\\theta$ (parameterized by $\\theta\\in\\Theta$)."
   ]
  },
  {
   "cell_type": "code",
   "execution_count": 10,
   "metadata": {
    "colab": {},
    "colab_type": "code",
    "id": "1GKxKzs5khxM"
   },
   "outputs": [],
   "source": [
    "class ValueNetwork(nn.Module):\n",
    "    r\"\"\"\n",
    "    Approximation of the value function V under the current policy.\n",
    "    \n",
    "    This is the 'critic'.\n",
    "    \"\"\"\n",
    "\n",
    "    def __init__(self, input_size, hidden_size, output_size):\n",
    "        super(ValueNetwork, self).__init__()\n",
    "        self.fc1 = nn.Linear(input_size, hidden_size)\n",
    "        self.fc2 = nn.Linear(hidden_size, hidden_size)\n",
    "        self.fc3 = nn.Linear(hidden_size, output_size)\n",
    "\n",
    "    def forward(self, x):\n",
    "        out = F.relu(self.fc1(x))\n",
    "        out = F.relu(self.fc2(out))\n",
    "        out = self.fc3(out)\n",
    "        return out\n",
    "    \n",
    "    def predict(self, x):\n",
    "        return self(x).detach().numpy()[0]\n",
    "\n",
    "class ActorNetwork(nn.Module):\n",
    "    r\"\"\"\n",
    "    Policy model network for the agent.\n",
    "    \"\"\"\n",
    "    def __init__(self, input_size, hidden_size, action_size):\n",
    "        super(ActorNetwork, self).__init__()\n",
    "        self.fc1 = nn.Linear(input_size, hidden_size)\n",
    "        self.fc2 = nn.Linear(hidden_size, hidden_size)\n",
    "        self.fc3 = nn.Linear(hidden_size, action_size)\n",
    "\n",
    "    def forward(self, x):\n",
    "        out = F.relu(self.fc1(x))\n",
    "        out = F.relu(self.fc2(out))\n",
    "        out = F.softmax(self.fc3(out), dim=-1)\n",
    "        return out\n",
    "    \n",
    "    def select_action(self, x):\n",
    "        return torch.multinomial(self(x), 1).detach().numpy()"
   ]
  },
  {
   "cell_type": "markdown",
   "metadata": {
    "colab_type": "text",
    "id": "aBpNVkaAKLQz"
   },
   "source": [
    "The following `EvalAgent` defines an **evaluation agent**: using the prescribed policy $\\pi$, it runs trajectories to fit an estimate of the value function $V^\\pi$ modelled as a neural network $\\hat{v}_\\nu(s)$."
   ]
  },
  {
   "cell_type": "code",
   "execution_count": 11,
   "metadata": {
    "colab": {},
    "colab_type": "code",
    "id": "QQ4Wu5B5KIIO"
   },
   "outputs": [],
   "source": [
    "class EvalAgent:\n",
    "    \"\"\"\n",
    "    This agent runs the prescribed policy (but does not learn it)\n",
    "    \"\"\"\n",
    "    def __init__(self, config, policy):\n",
    "        self.config = config\n",
    "        self.env = gym.make(config['env_id'])\n",
    "        make_seed(config['seed'])\n",
    "        self.env.seed(config['seed'])\n",
    "        self.monitor_env = Monitor(self.env, \"./gym-results\",\n",
    "                                   force=True, video_callable=lambda episode: True)\n",
    "        self.gamma = config['gamma']\n",
    "        self.policy: ActorNetwork = policy\n",
    "\n",
    "        self.value_hidden = 16\n",
    "        # Our network\n",
    "        self.value_network: ValueNetwork = ValueNetwork(\n",
    "            self.env.observation_space.shape[0], self.value_hidden, 1)\n",
    "\n",
    "        # optimizer -- singular: only for the value network\n",
    "        self.value_network_optimizer = optim.RMSprop(\n",
    "            self.value_network.parameters(),\n",
    "            lr=config['value_network']['learning_rate'])\n",
    "    \n",
    "    def _compute_returns(self, rewards, dones, next_value):\n",
    "        \"\"\"Returns the cumulative discounted rewards at each time step.\n",
    "        We are going to fit the value_network on this.\n",
    "        \n",
    "        Parameters\n",
    "        ----------\n",
    "        rewards : array\n",
    "            An array of shape (batch_size,) containing the rewards given by the env\n",
    "        dones : array\n",
    "            An array of shape (batch_size,) containing the done bool indicator given by the env\n",
    "        next_value : float\n",
    "            The (estimated) value of the next state given by the value network\n",
    "\n",
    "        Returns\n",
    "        -------\n",
    "        returns : array\n",
    "            The estimate of the advantage -- or rather the returns\n",
    "        \"\"\"\n",
    "        returns_ = np.empty_like(rewards)\n",
    "        R = next_value\n",
    "        for i in range(1, len(rewards)+1):\n",
    "            retro_prop = 1-dones[-i]  # whether to use the following value\n",
    "            R = rewards[-i] + self.gamma * retro_prop * R\n",
    "            returns_[-i] = R\n",
    "        \n",
    "        \n",
    "        \n",
    "        return returns_\n",
    "    \n",
    "    \n",
    "    def optimize_model(self, observations, returns): #actions, returns, advantages): what ?\n",
    "        \"\"\"Perform a gradient update using provided transitions\n",
    "\n",
    "        Parameters\n",
    "        ----------\n",
    "        observations : array\n",
    "            The observations\n",
    "        returns : array\n",
    "            The returns from each state\n",
    "\n",
    "        Returns\n",
    "        -------\n",
    "        loss_value: int  <--- what ??\n",
    "            The loss value\n",
    "        \"\"\"\n",
    "        # Cast our array buffers into tensors\n",
    "        returns = torch.from_numpy(returns[:, None]).float()  # shape (batch_size,1)\n",
    "        observations = torch.from_numpy(observations).float()\n",
    "        \n",
    "        \n",
    "        ## STEP ONE: FIT THE VALUE NETWORK TO THE RETURNS\n",
    "        network_values = self.value_network(observations)  # shape (batch_size,)\n",
    "        mse_values = F.mse_loss(network_values, returns)\n",
    "        #print(\"MSE values:\", mse_values.item())\n",
    "        \n",
    "        # rmk: graph of mse_values only depends on weights of value_network\n",
    "        mse_values.backward()  # backprop step\n",
    "        self.value_network_optimizer.step()  # optimizer step\n",
    "        self.value_network_optimizer.zero_grad()  # zero the gradients\n",
    "        \n",
    "        return\n",
    "    \n",
    "    def training_batch(self, epochs, batch_size):\n",
    "        \"\"\"Train the model over multiple epochs, by batches.\n",
    "\n",
    "        Parameters\n",
    "        ----------\n",
    "        epochs : int\n",
    "            Number of epochs\n",
    "        batch_size : int\n",
    "            The size of a batch\n",
    "        \"\"\"\n",
    "        episode_count = 0\n",
    "        actions = np.empty((batch_size,), dtype=np.int)\n",
    "        dones   = np.empty((batch_size,), dtype=np.bool)\n",
    "        rewards = np.empty((batch_size,), dtype=np.float)\n",
    "        \n",
    "        ## shape (batch_size, *obs_dims) -- buffer for observations\n",
    "        observations = np.empty(\n",
    "            (batch_size,) + self.env.observation_space.shape,\n",
    "            dtype=np.float)\n",
    "        \n",
    "        env = self.env\n",
    "        \n",
    "        obs = env.reset()\n",
    "        mse_test = []\n",
    "\n",
    "        ## EPISODE = TRAJECTORY\n",
    "        \n",
    "        for epoch in range(epochs):\n",
    "            # Collect the variables computed at the previous step\n",
    "            for i in range(batch_size):\n",
    "                observations[i] = obs  # just observed s_t\n",
    "                obs_ = torch.from_numpy(obs).float()  # tensor\n",
    "                action = self.policy.select_action(obs_)  # act on just observed, action a_t\n",
    "                actions[i] = int(action)\n",
    "                \n",
    "                obs, reward, done, _ = self.env.step(int(action))  # step with env\n",
    "                \n",
    "                dones[i] = done\n",
    "                rewards[i] = reward\n",
    "                \n",
    "                # check if the observation we just got was terminal\n",
    "                if dones[i]:\n",
    "                    obs = self.env.reset()\n",
    "\n",
    "            # If our episode didn't end on the last step we need to compute the value for the last state\n",
    "            if dones[-1]:\n",
    "                next_value = 0  # no value function adjustment\n",
    "            else:\n",
    "                obs_ = torch.from_numpy(obs).float()\n",
    "                next_value = self.value_network(obs_)\n",
    "            \n",
    "            # Update episode_count\n",
    "            episode_count += sum(dones)\n",
    "\n",
    "            # Compute returns over the batch\n",
    "            returns = self._compute_returns(rewards, dones, next_value)\n",
    "            \n",
    "            # Learning step !\n",
    "            self.optimize_model(observations, returns)\n",
    "            \n",
    "            obs = env.reset()\n",
    "            \n",
    "            # Run a test of the value fit, every 50 epochs\n",
    "            if (epoch > 0 and epoch % 25 == 0) or epoch == epochs - 1:\n",
    "                L = []\n",
    "                for _ in range(10):\n",
    "                    obs_states, y_mc = self.evaluate()\n",
    "                    obs_states_tensor = torch.from_numpy(obs_states).float()  # no-copy tensor\n",
    "                    y_hat = self.value_network(obs_states_tensor).detach().numpy()\n",
    "                    err = y_mc - y_hat\n",
    "                    mse = np.mean(err ** 2)\n",
    "                    L.append(mse.item())\n",
    "                mse_test.append(L)\n",
    "                print(f'Epoch {epoch}/{epochs}: Value MSE: {np.mean(mse)}')\n",
    "\n",
    "        env.close()\n",
    "        \n",
    "        # Plotting\n",
    "        r = pd.DataFrame((itertools.chain(*(itertools.product([i], mse_test[i]) for i in range(len(mse_test))))), columns=['Epoch', 'MSE'])\n",
    "        sns.lineplot(x=\"Epoch\", y=\"MSE\", data=r, ci='sd');\n",
    "\n",
    "        print(f'The training was done over a total of {episode_count} episodes')\n",
    "\n",
    "    def evaluate(self, render=False):\n",
    "        \"\"\"Returns the observations and the estimated V-function (using first visit Monte-Carlo)\n",
    "\n",
    "        Returns\n",
    "        -------\n",
    "        states : array\n",
    "            Observations\n",
    "        returns : array\n",
    "            The estimate value function of each state\n",
    "        \"\"\"\n",
    "        env = self.monitor_env if render else self.env\n",
    "        observation = env.reset()\n",
    "        states = [observation.copy()]\n",
    "        rewards= []\n",
    "        observation = torch.from_numpy(observation).float()\n",
    "        done = False\n",
    "        steps = 0\n",
    "\n",
    "        with torch.no_grad():  # avoid wrecking the RAM\n",
    "            while not done:\n",
    "                action = self.policy.select_action(observation)\n",
    "\n",
    "\n",
    "                observation, reward, done, info = env.step(int(action))\n",
    "                for i in range(steps):\n",
    "                    rewards[i] = rewards[i] + np.power(self.gamma, steps-i)*reward\n",
    "                rewards.append(reward)\n",
    "                if not done:\n",
    "                    states.append(observation.copy())\n",
    "                observation = torch.from_numpy(observation).float()\n",
    "                steps += 1\n",
    "\n",
    "        env.close()\n",
    "        if render:\n",
    "            show_video(\"./gym-results\")\n",
    "            print(f'Reward: {reward_episode}')\n",
    "        states = np.array(states).reshape(-1, self.env.observation_space.shape[0])\n",
    "        returns = np.array(rewards).reshape(-1,1)\n",
    "        return states, returns"
   ]
  },
  {
   "cell_type": "markdown",
   "metadata": {
    "colab_type": "text",
    "id": "IY1VIUHLNKn3"
   },
   "source": [
    "Define configuration"
   ]
  },
  {
   "cell_type": "code",
   "execution_count": 12,
   "metadata": {
    "colab": {},
    "colab_type": "code",
    "id": "Fvc-7jXDNNkG"
   },
   "outputs": [
    {
     "name": "stdout",
     "output_type": "stream",
     "text": [
      "Current config_td is:\n",
      "{'env_id': 'CartPole-v1',\n",
      " 'gamma': 0.99,\n",
      " 'seed': 1,\n",
      " 'value_network': {'learning_rate': 0.0018, 'reference': './CartPole_value.pt'}}\n"
     ]
    }
   ],
   "source": [
    "env_id = 'CartPole-v1'\n",
    "value_learning_rate = 0.0018\n",
    "gamma = 0.99\n",
    "seed = 1\n",
    "\n",
    "config_td = {\n",
    "    'env_id': env_id,\n",
    "    'gamma': gamma,\n",
    "    'seed': seed,\n",
    "    'value_network': {'learning_rate': value_learning_rate, 'reference': './CartPole_value.pt'}\n",
    "}\n",
    "\n",
    "print(\"Current config_td is:\")\n",
    "pprint(config_td)\n"
   ]
  },
  {
   "cell_type": "markdown",
   "metadata": {
    "colab_type": "text",
    "id": "d2lRnaF3NPyy"
   },
   "source": [
    "We create the policy network: for now we will use a prescribed, pre-trained policy."
   ]
  },
  {
   "cell_type": "code",
   "execution_count": 13,
   "metadata": {
    "colab": {},
    "colab_type": "code",
    "id": "NkbHK_lXNShg"
   },
   "outputs": [
    {
     "name": "stdout",
     "output_type": "stream",
     "text": [
      "pi(state) =  [1]\n"
     ]
    }
   ],
   "source": [
    "env = gym.make(config_td['env_id'])\n",
    "\n",
    "## Define the policy network\n",
    "policy = ActorNetwork(env.observation_space.shape[0], 16, env.action_space.n)  # policy model network\n",
    "policy.load_state_dict(torch.load('./mvarl_hands_on/data/CartPole_actor.pt'))  # load pre-trained weights\n",
    "state = torch.from_numpy(env.reset()).float()  # initial state\n",
    "print(\"pi(state) = \", policy.select_action(state))\n",
    "# del env"
   ]
  },
  {
   "cell_type": "markdown",
   "metadata": {
    "colab_type": "text",
    "id": "Y51M4EgtNU7Z"
   },
   "source": [
    "Run agent"
   ]
  },
  {
   "cell_type": "code",
   "execution_count": 14,
   "metadata": {
    "colab": {},
    "colab_type": "code",
    "id": "4PFvnYLnNGvX"
   },
   "outputs": [],
   "source": [
    "agent = EvalAgent(config=config_td, policy=policy)"
   ]
  },
  {
   "cell_type": "code",
   "execution_count": 15,
   "metadata": {
    "colab": {},
    "colab_type": "code",
    "id": "4PFvnYLnNGvX"
   },
   "outputs": [
    {
     "name": "stdout",
     "output_type": "stream",
     "text": [
      "rewards: [1. 1. 1. 1. 1. 1. 1. 1. 1. 1. 1. 1. 1. 1. 1. 1. 1. 1. 1. 1.]\n",
      "dones:   [False False False False False False False False False False False  True\n",
      " False False False False False False False False]\n"
     ]
    },
    {
     "data": {
      "text/plain": [
       "array([11.36151283, 10.46617457,  9.5617925 ,  8.64827525,  7.72553056,\n",
       "        6.79346521,  5.85198506,  4.90099501,  3.940399  ,  2.9701    ,\n",
       "        1.99      ,  1.        ,  7.72553056,  6.79346521,  5.85198506,\n",
       "        4.90099501,  3.940399  ,  2.9701    ,  1.99      ,  1.        ])"
      ]
     },
     "execution_count": 15,
     "metadata": {},
     "output_type": "execute_result"
    }
   ],
   "source": [
    "## For sanity\n",
    "def _test_compute_returns():\n",
    "    n = 20\n",
    "    rewards = np.ones(n)\n",
    "    dones = np.zeros(n, dtype=np.bool)\n",
    "    dones[11] = True\n",
    "    print(\"rewards:\", rewards)\n",
    "    print(\"dones:  \", dones)\n",
    "    \n",
    "    next_value = 0\n",
    "    res = agent._compute_returns(rewards, dones, next_value)\n",
    "    return res\n",
    "\n",
    "_test_compute_returns()"
   ]
  },
  {
   "cell_type": "code",
   "execution_count": 763,
   "metadata": {
    "colab": {},
    "colab_type": "code",
    "id": "4PFvnYLnNGvX"
   },
   "outputs": [
    {
     "name": "stdout",
     "output_type": "stream",
     "text": [
      "Epoch 25/800: Value MSE: 6699.2783622987345\n",
      "Epoch 50/800: Value MSE: 5991.503593194566\n",
      "Epoch 75/800: Value MSE: 5000.36452257365\n",
      "Epoch 100/800: Value MSE: 3896.6062193060234\n",
      "Epoch 125/800: Value MSE: 2774.2764289402803\n",
      "Epoch 150/800: Value MSE: 1984.9105483982623\n",
      "Epoch 175/800: Value MSE: 1343.6016007314533\n",
      "Epoch 200/800: Value MSE: 867.686032616007\n",
      "Epoch 225/800: Value MSE: 774.4276227922157\n",
      "Epoch 250/800: Value MSE: 625.192739645155\n",
      "Epoch 275/800: Value MSE: 611.1459028769558\n",
      "Epoch 300/800: Value MSE: 678.7645192390694\n",
      "Epoch 325/800: Value MSE: 632.5247390937847\n",
      "Epoch 350/800: Value MSE: 685.1034250006016\n",
      "Epoch 375/800: Value MSE: 672.3947369860234\n",
      "Epoch 400/800: Value MSE: 581.2606737359262\n",
      "Epoch 425/800: Value MSE: 615.2470994797874\n",
      "Epoch 450/800: Value MSE: 670.8317830639302\n",
      "Epoch 475/800: Value MSE: 611.3586502816598\n",
      "Epoch 500/800: Value MSE: 1065.0124682544758\n"
     ]
    },
    {
     "name": "stderr",
     "output_type": "stream",
     "text": [
      "/home/manifold/miniconda3/envs/torch/lib/python3.7/site-packages/gym/logger.py:30: UserWarning: \u001b[33mWARN: You are calling 'step()' even though this environment has already returned done = True. You should always call 'reset()' once you receive 'done = True' -- any further steps are undefined behavior.\u001b[0m\n",
      "  warnings.warn(colorize('%s: %s'%('WARN', msg % args), 'yellow'))\n"
     ]
    },
    {
     "name": "stdout",
     "output_type": "stream",
     "text": [
      "Epoch 525/800: Value MSE: 610.211428698839\n",
      "Epoch 550/800: Value MSE: 614.0521261402993\n",
      "Epoch 575/800: Value MSE: 592.7664170474463\n",
      "Epoch 600/800: Value MSE: 586.63135467209\n",
      "Epoch 625/800: Value MSE: 619.1606849363673\n",
      "Epoch 650/800: Value MSE: 609.0073950952403\n",
      "Epoch 675/800: Value MSE: 590.8101960486318\n",
      "Epoch 700/800: Value MSE: 614.1035989062791\n",
      "Epoch 725/800: Value MSE: 596.674730274731\n",
      "Epoch 750/800: Value MSE: 601.3044319361793\n",
      "Epoch 775/800: Value MSE: 949.6450564352031\n",
      "Epoch 799/800: Value MSE: 613.743812340003\n",
      "The training was done over a total of 834 episodes\n"
     ]
    },
    {
     "data": {
      "image/png": "[encoded data removed]",
      "text/plain": [
       "<Figure size 432x288 with 1 Axes>"
      ]
     },
     "metadata": {
      "needs_background": "light"
     },
     "output_type": "display_data"
    }
   ],
   "source": [
    "EPOCHS = 800\n",
    "batch_size = 512\n",
    "agent.training_batch(epochs=EPOCHS, batch_size=batch_size)"
   ]
  },
  {
   "cell_type": "markdown",
   "metadata": {},
   "source": [
    "## Advantage Actor Critic (A2C)\n",
    "**Q3: Implement the A2C method**\n",
    "\n",
    "As usual we provide a structure you can use as starting point.\n",
    "\n",
    "\n",
    "\n",
    "**Note:** try to reuse previous parts of previous code."
   ]
  },
  {
   "cell_type": "code",
   "execution_count": 31,
   "metadata": {
    "colab": {},
    "colab_type": "code",
    "id": "G4EmYpAsjhKh"
   },
   "outputs": [],
   "source": [
    "class A2CAgent:\n",
    "\n",
    "    def __init__(self, config):\n",
    "        self.config = config\n",
    "        self.env = gym.make(config['env_id'])\n",
    "        make_seed(config['seed'])\n",
    "        self.env.seed(config['seed'])\n",
    "        self.monitor_env = Monitor(self.env, \"./gym-results\", force=True, video_callable=lambda episode: True)\n",
    "        self.gamma = config['gamma']\n",
    "        self.entropy = config['entropy']\n",
    "        \n",
    "        # Our two networks\n",
    "        self.value_network = ValueNetwork(self.env.observation_space.shape[0], 16, 1)\n",
    "        self.actor_network = ActorNetwork(self.env.observation_space.shape[0], 16, self.env.action_space.n)\n",
    "        \n",
    "        # Their optimizers\n",
    "        self.value_network_optimizer: optim.Optimizer = optim.RMSprop(\n",
    "            self.value_network.parameters(), lr=config['value_network']['learning_rate'])\n",
    "        self.actor_network_optimizer: optim.Optimizer = optim.RMSprop(\n",
    "            self.actor_network.parameters(), lr=config['actor_network']['learning_rate'])\n",
    "        \n",
    "    # Hint: use it during training_batch\n",
    "    def _returns_advantages(self, rewards, dones, values, next_value):\n",
    "        \"\"\"Returns the cumulative discounted rewards at each time step\n",
    "\n",
    "        Parameters\n",
    "        ----------\n",
    "        rewards : array\n",
    "            An array of shape (batch_size,) containing the rewards given by the env\n",
    "        dones : array\n",
    "            An array of shape (batch_size,) containing the done bool indicator given by the env\n",
    "        values : array\n",
    "            An array of shape (batch_size,) containing the values given by the value network\n",
    "        next_value : float\n",
    "            The value of the next state given by the value network\n",
    "        \n",
    "        Returns\n",
    "        -------\n",
    "        returns : array\n",
    "            The cumulative discounted rewards\n",
    "        advantages : array\n",
    "            The advantages\n",
    "        \"\"\"\n",
    "        returns_ = np.empty_like(rewards)\n",
    "        \n",
    "        R = next_value\n",
    "        for i in range(1, len(rewards)+1):\n",
    "            retro_prop = 1-dones[-i]  # whether to use the following value\n",
    "            R = rewards[-i] + self.gamma * retro_prop * R\n",
    "            returns_[-i] = R\n",
    "        \n",
    "        \n",
    "        #advantages = rewards\n",
    "        #advantages[:-1] += (1-dones[:-1]) * self.gamma * values[1:] - values[:-1]\n",
    "        #advantages[-1] += (1-dones[-1]) * self.gamma * next_value - values[-1]\n",
    "        advantages = returns_ - values\n",
    "        return returns_, advantages\n",
    "\n",
    "    def training_batch(self, epochs, batch_size):\n",
    "        \"\"\"Perform a training by batch\n",
    "\n",
    "        Parameters\n",
    "        ----------\n",
    "        epochs : int\n",
    "            Number of epochs\n",
    "        batch_size : int\n",
    "            The size of a batch\n",
    "        \"\"\"\n",
    "        env = self.env\n",
    "        episode_count = 0\n",
    "        actions = np.empty((batch_size,), dtype=np.int)\n",
    "        dones = np.empty((batch_size,), dtype=np.bool)\n",
    "        rewards, values = np.empty((2, batch_size), dtype=np.float)\n",
    "        observations = np.empty((batch_size,) + self.env.observation_space.shape, dtype=np.float)\n",
    "        obs = self.env.reset()\n",
    "        rewards_test = []\n",
    "\n",
    "        for epoch in range(epochs):\n",
    "            # Lets collect one batch\n",
    "            for i in range(batch_size):\n",
    "                observations[i] = obs  # just observed s_t\n",
    "                obs_t = torch.from_numpy(obs).float()  # tensor\n",
    "                action = self.actor_network.select_action(obs_t)  # act on just observed, action a_t\n",
    "                actions[i] = int(action)\n",
    "                values[i] = self.value_network(obs_t)  # vhat[t]\n",
    "                \n",
    "                ## Run a step\n",
    "                obs, reward, done, _ = self.env.step(int(action))  # step with env: get (s[t+1], r[t])\n",
    "                \n",
    "                # Store status & reward\n",
    "                dones[i]   = done\n",
    "                rewards[i] = reward\n",
    "                \n",
    "                # check if the observation we just got was terminal\n",
    "                if dones[i]:\n",
    "                    obs = env.reset()\n",
    "\n",
    "            # If our episode didn't end on the last step we need to compute the value for the last state\n",
    "            if dones[-1]:\n",
    "                next_value = 0  # no value function adjustment\n",
    "            else:\n",
    "                obs_t = torch.from_numpy(observations[-1]).float()\n",
    "                next_value = self.value_network.predict(obs_t)\n",
    "            \n",
    "            # Update episode_count\n",
    "            episode_count += sum(dones)\n",
    "\n",
    "            # Compute returns and advantages\n",
    "            returns, advantages = self._returns_advantages(rewards, dones, values, next_value)\n",
    "\n",
    "            # Learning step !\n",
    "            self.optimize_model(observations, actions, returns, dones, advantages)\n",
    "            \n",
    "            \n",
    "            # Test it every 50 epochs\n",
    "            if epoch == 10 or (epoch > 0 and epoch % 25 == 0) or epoch == epochs - 1:\n",
    "                rewards_test.append(np.array([self.evaluate() for _ in range(50)]))\n",
    "                print(f'Epoch {epoch}/{epochs}: Mean rewards: {round(rewards_test[-1].mean(), 2)}, Std: {round(rewards_test[-1].std(), 2)}')\n",
    "\n",
    "                # Early stopping\n",
    "                if rewards_test[-1].mean() > 490 and epoch != epochs -1:\n",
    "                    print('Early stopping !')\n",
    "                    break\n",
    "            \n",
    "            obs = self.env.reset()\n",
    "        \n",
    "        env.close()\n",
    "        \n",
    "        # Plotting\n",
    "        r = pd.DataFrame((itertools.chain(*(itertools.product([i], rewards_test[i]) for i in range(len(rewards_test))))), columns=['Epoch', 'Reward'])\n",
    "        sns.lineplot(x=\"Epoch\", y=\"Reward\", data=r, ci='sd');\n",
    "        \n",
    "        print(f'The training was done over a total of {episode_count} episodes')\n",
    "\n",
    "    def optimize_model(self, observations, actions, returns, dones, advantages):\n",
    "        n_trajs = np.sum(dones)\n",
    "        actions_idx = actions\n",
    "        actions      = F.one_hot(torch.from_numpy(actions), self.env.action_space.n)\n",
    "        returns      = torch.from_numpy(returns[:, None]).float()\n",
    "        advantages   = torch.from_numpy(advantages).float()\n",
    "        observations = torch.from_numpy(observations).float()  # shape (batch_size,)\n",
    "        \n",
    "        # Critic loss\n",
    "        net_values: torch.Tensor = self.value_network(observations)\n",
    "        #critic_loss = F.mse_loss(net_values, returns)\n",
    "        \n",
    "        critic_loss = -torch.mean(advantages * net_values)  # completely equivalent using pseudo-loss\n",
    "        critic_loss.backward()\n",
    "        \n",
    "        self.value_network_optimizer.step()\n",
    "        \n",
    "        # Actor & Entropy loss\n",
    "        \n",
    "        prob: torch.Tensor = self.actor_network(observations)  # shape (batch_size,action_space)\n",
    "        \n",
    "        if not dones[-1]:\n",
    "            n_trajs += 1\n",
    "        \n",
    "        loss = 0.\n",
    "        \n",
    "        for i in range(len(observations)):\n",
    "            loss += torch.log(prob[i, actions_idx[i]])*advantages[i]\n",
    "        \n",
    "        loss = -loss\n",
    "        entropy_term = self.entropy * torch.sum(prob * torch.log(prob))\n",
    "        loss += entropy_term\n",
    "        loss = loss / n_trajs\n",
    "        \n",
    "        loss.backward()\n",
    "        \n",
    "        self.actor_network_optimizer.step()\n",
    "        \n",
    "        self.value_network_optimizer.zero_grad()\n",
    "        self.actor_network_optimizer.zero_grad()\n",
    "\n",
    "        \n",
    "        return loss.detach().numpy()\n",
    "\n",
    "    def evaluate(self, render=False):\n",
    "        env = self.monitor_env if render else self.env\n",
    "        observation = env.reset()\n",
    "        observation = torch.from_numpy(observation).float()\n",
    "        reward_episode = 0\n",
    "        done = False\n",
    "        with torch.no_grad():\n",
    "            while not done:\n",
    "                policy = self.actor_network(observation)\n",
    "                action = torch.multinomial(policy, 1)  # draw an action\n",
    "                observation, reward, done, info = env.step(int(action))\n",
    "                observation = torch.from_numpy(observation).float()\n",
    "                reward_episode += reward\n",
    "            \n",
    "        env.close()\n",
    "        if render:\n",
    "            show_video(\"./gym-results\")\n",
    "            print(f'Reward: {reward_episode}')\n",
    "        return reward_episode"
   ]
  },
  {
   "cell_type": "markdown",
   "metadata": {
    "colab_type": "text",
    "id": "8sEwrInsjkDH"
   },
   "source": [
    "Create configuration for A2C"
   ]
  },
  {
   "cell_type": "code",
   "execution_count": 32,
   "metadata": {
    "colab": {},
    "colab_type": "code",
    "id": "OwDDx78wjmG5"
   },
   "outputs": [
    {
     "name": "stdout",
     "output_type": "stream",
     "text": [
      "Current config_a2c is:\n",
      "{'actor_network': {'learning_rate': 0.001},\n",
      " 'entropy': 0.0011,\n",
      " 'env_id': 'CartPole-v1',\n",
      " 'gamma': 0.99,\n",
      " 'seed': 1,\n",
      " 'value_network': {'learning_rate': 0.001}}\n"
     ]
    }
   ],
   "source": [
    "env_id = 'CartPole-v1'\n",
    "value_learning_rate = 0.0010\n",
    "actor_learning_rate = 0.0010\n",
    "gamma = 0.99\n",
    "entropy = 0.0011\n",
    "seed = 1\n",
    "\n",
    "config_a2c = {\n",
    "    'env_id': env_id,\n",
    "    'gamma': gamma,\n",
    "    'seed': seed,\n",
    "    'value_network': {'learning_rate': value_learning_rate},\n",
    "    'actor_network': {'learning_rate': actor_learning_rate},\n",
    "    'entropy': entropy\n",
    "}\n",
    "\n",
    "print(\"Current config_a2c is:\")\n",
    "pprint(config_a2c)"
   ]
  },
  {
   "cell_type": "markdown",
   "metadata": {
    "colab_type": "text",
    "id": "6xW7fe-8jvzY"
   },
   "source": [
    "Run the learning agent"
   ]
  },
  {
   "cell_type": "code",
   "execution_count": 33,
   "metadata": {
    "colab": {},
    "colab_type": "code",
    "id": "UrZRJ7-yjryp"
   },
   "outputs": [
    {
     "name": "stdout",
     "output_type": "stream",
     "text": [
      "Epoch 10/1000: Mean rewards: 27.28, Std: 18.17\n",
      "Epoch 25/1000: Mean rewards: 30.44, Std: 18.89\n",
      "Epoch 50/1000: Mean rewards: 45.02, Std: 25.55\n",
      "Epoch 75/1000: Mean rewards: 55.42, Std: 27.94\n",
      "Epoch 100/1000: Mean rewards: 77.98, Std: 42.76\n",
      "Epoch 125/1000: Mean rewards: 127.84, Std: 77.57\n",
      "Epoch 150/1000: Mean rewards: 188.68, Std: 84.68\n",
      "Epoch 175/1000: Mean rewards: 223.4, Std: 97.46\n",
      "Epoch 200/1000: Mean rewards: 199.96, Std: 89.63\n",
      "Epoch 225/1000: Mean rewards: 239.8, Std: 87.22\n",
      "Epoch 250/1000: Mean rewards: 264.48, Std: 96.99\n",
      "Epoch 275/1000: Mean rewards: 258.1, Std: 97.79\n",
      "Epoch 300/1000: Mean rewards: 344.64, Std: 121.69\n",
      "Epoch 325/1000: Mean rewards: 336.16, Std: 133.71\n",
      "Epoch 350/1000: Mean rewards: 326.84, Std: 105.38\n",
      "Epoch 375/1000: Mean rewards: 346.12, Std: 103.17\n",
      "Epoch 400/1000: Mean rewards: 377.74, Std: 101.34\n",
      "Epoch 425/1000: Mean rewards: 368.32, Std: 115.3\n",
      "Epoch 450/1000: Mean rewards: 408.62, Std: 99.92\n",
      "Epoch 475/1000: Mean rewards: 396.98, Std: 100.09\n",
      "Epoch 500/1000: Mean rewards: 390.8, Std: 116.36\n",
      "Epoch 525/1000: Mean rewards: 476.94, Std: 62.21\n",
      "Epoch 550/1000: Mean rewards: 434.06, Std: 91.15\n",
      "Epoch 575/1000: Mean rewards: 449.32, Std: 87.85\n",
      "Epoch 600/1000: Mean rewards: 456.5, Std: 70.43\n",
      "Epoch 625/1000: Mean rewards: 409.82, Std: 87.34\n",
      "Epoch 650/1000: Mean rewards: 461.02, Std: 79.6\n",
      "Epoch 675/1000: Mean rewards: 464.68, Std: 82.91\n",
      "Epoch 700/1000: Mean rewards: 461.48, Std: 68.2\n",
      "Epoch 725/1000: Mean rewards: 463.22, Std: 76.11\n",
      "Epoch 750/1000: Mean rewards: 451.8, Std: 71.82\n",
      "Epoch 775/1000: Mean rewards: 483.62, Std: 38.45\n",
      "Epoch 800/1000: Mean rewards: 491.14, Std: 51.06\n",
      "Early stopping !\n",
      "The training was done over a total of 1468 episodes\n"
     ]
    },
    {
     "data": {
      "image/png": "[encoded data removed]",
      "text/plain": [
       "<Figure size 432x288 with 1 Axes>"
      ]
     },
     "metadata": {
      "needs_background": "light"
     },
     "output_type": "display_data"
    }
   ],
   "source": [
    "agent = A2CAgent(config_a2c)\n",
    "EPOCHS = 1000\n",
    "BATCH_SIZE = 384\n",
    "rewards = agent.training_batch(EPOCHS, BATCH_SIZE)"
   ]
  },
  {
   "cell_type": "markdown",
   "metadata": {
    "colab_type": "text",
    "id": "NzuNtPqTju64"
   },
   "source": [
    "Evaluate the agent over multiple episodes"
   ]
  },
  {
   "cell_type": "code",
   "execution_count": 840,
   "metadata": {
    "colab": {},
    "colab_type": "code",
    "id": "bw279M4Jj1y-"
   },
   "outputs": [
    {
     "data": {
      "text/plain": [
       "500.0"
      ]
     },
     "execution_count": 840,
     "metadata": {},
     "output_type": "execute_result"
    }
   ],
   "source": [
    "agent.evaluate()"
   ]
  },
  {
   "cell_type": "code",
   "execution_count": null,
   "metadata": {},
   "outputs": [],
   "source": []
  }
 ],
 "metadata": {
  "colab": {
   "collapsed_sections": [],
   "name": "MVARL19_part2.ipynb",
   "private_outputs": true,
   "provenance": [],
   "toc_visible": true
  },
  "kernelspec": {
   "display_name": "Python [conda env:torch]",
   "language": "python",
   "name": "conda-env-torch-py"
  },
  "language_info": {
   "codemirror_mode": {
    "name": "ipython",
    "version": 3
   },
   "file_extension": ".py",
   "mimetype": "text/x-python",
   "name": "python",
   "nbconvert_exporter": "python",
   "pygments_lexer": "ipython3",
   "version": "3.7.5"
  }
 },
 "nbformat": 4,
 "nbformat_minor": 4
}
