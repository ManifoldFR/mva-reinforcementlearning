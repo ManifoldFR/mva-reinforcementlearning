{
 "cells": [
  {
   "cell_type": "markdown",
   "metadata": {
    "colab_type": "text",
    "id": "4P3WM-hVOPfo"
   },
   "source": [
    "# Reinforcement Learning in Finite MDPs"
   ]
  },
  {
   "cell_type": "code",
   "execution_count": 1,
   "metadata": {
    "colab": {},
    "colab_type": "code",
    "id": "E9_DLZvWQzhb"
   },
   "outputs": [],
   "source": [
    "!git clone https://github.com/rlgammazero/mvarl_hands_on.git > /dev/null 2>&1"
   ]
  },
  {
   "cell_type": "markdown",
   "metadata": {
    "colab_type": "text",
    "id": "wnzUJeyJOPfq"
   },
   "source": [
    "## MDPs"
   ]
  },
  {
   "cell_type": "code",
   "execution_count": 7,
   "metadata": {
    "colab": {},
    "colab_type": "code",
    "id": "RcWJSw_uOPfr"
   },
   "outputs": [],
   "source": [
    "import sys\n",
    "sys.path.insert(0, './mvarl_hands_on/utils')\n",
    "import numpy as np\n",
    "from scipy.special import softmax # for SARSA\n",
    "import matplotlib.pyplot as plt\n",
    "import json\n",
    "import math\n",
    "from cliffwalk import CliffWalk"
   ]
  },
  {
   "cell_type": "code",
   "execution_count": 9,
   "metadata": {
    "colab": {},
    "colab_type": "code",
    "id": "RcWJSw_uOPfr"
   },
   "outputs": [],
   "source": [
    "from test_env import ToyEnv1"
   ]
  },
  {
   "cell_type": "markdown",
   "metadata": {
    "colab_type": "text",
    "id": "ym-B_4HaOPfu"
   },
   "source": [
    "Setting up the environment"
   ]
  },
  {
   "cell_type": "code",
   "execution_count": 130,
   "metadata": {
    "colab": {},
    "colab_type": "code",
    "id": "rVR5qYoLOPfv"
   },
   "outputs": [
    {
     "name": "stdout",
     "output_type": "stream",
     "text": [
      "Set of states: range(0, 48)\n",
      "Set of actions: [0, 1, 2, 3]\n",
      "Number of states:  48\n",
      "Number of actions:  4\n",
      "P has shape:  (48, 4, 48)\n",
      "discount factor:  0.99\n",
      "\n",
      "initial state:  36\n",
      "reward at (s=1, a=3,s'=2):  0.6\n",
      "\n",
      "random policy =  [2 0 0 0 0 2 3 2 0 0 2 0 2 0 3 1 3 3 2 0 0 2 1 1 1 1 1 3 0 3 2 2 3 1 2 1 3\n",
      " 3 2 2 3 2 3 0 1 2 0 0]\n",
      "(s, a, s', r):\n",
      "36 3 24 0.6\n",
      "24 1 36 0.6\n",
      "36 3 24 0.6\n",
      "24 1 36 0.6\n",
      "\n"
     ]
    }
   ],
   "source": [
    "env = CliffWalk(proba_succ=0.98)\n",
    "\n",
    "## Smaller env!\n",
    "#env = ToyEnv1(gamma=0.99)\n",
    "\n",
    "# Useful attributes\n",
    "print(\"Set of states:\", env.states)\n",
    "print(\"Set of actions:\", env.actions)\n",
    "print(\"Number of states: \", env.Ns)\n",
    "print(\"Number of actions: \", env.Na)\n",
    "print(\"P has shape: \", env.P.shape)  # P[s, a, s'] = env.P[s, a, s']\n",
    "print(\"discount factor: \", env.gamma)\n",
    "print(\"\")\n",
    "\n",
    "# Usefult methods\n",
    "state = env.reset() # get initial state\n",
    "print(\"initial state: \", state)\n",
    "print(\"reward at (s=1, a=3,s'=2): \", env.reward_func(1,3,2))\n",
    "print(\"\")\n",
    "\n",
    "# A random policy\n",
    "policy = np.random.randint(env.Na, size = (env.Ns,))\n",
    "print(\"random policy = \", policy)\n",
    "\n",
    "# Interacting with the environment\n",
    "print(\"(s, a, s', r):\")\n",
    "for time in range(4):\n",
    "    action = policy[state]\n",
    "    next_state, reward, done, info = env.step(action)\n",
    "    print(state, action, next_state, reward)\n",
    "    if done:\n",
    "        break\n",
    "    state = next_state\n",
    "print(\"\")"
   ]
  },
  {
   "cell_type": "markdown",
   "metadata": {
    "colab_type": "text",
    "id": "AUlNvT3cOPfx"
   },
   "source": [
    "## Question 1: Value iteration\n",
    "1. Write a function applying the optimal Bellman operator on a provided Q function: $Q_1 = LQ_0, \\; Q_0\\in \\mathbb{R}^{S\\times A}$\n",
    "2. Write a function implementing Value Iteration (VI) with $\\infty$-norm stopping condition (reuse function implemented in 1)\n",
    "3. Evaluate the convergence of your estimate, i.e., plot the value $\\|V_n - V^\\star\\|_{\\infty}$"
   ]
  },
  {
   "cell_type": "markdown",
   "metadata": {},
   "source": [
    "$$\n",
    "\\newcommand\\calA{\\mathcal A}\n",
    "$$"
   ]
  },
  {
   "cell_type": "markdown",
   "metadata": {},
   "source": [
    "**Recall** The Bellman operator operates on an input value function $Q_0$ as\n",
    "$$\n",
    "    LQ_0(s,a) = \\sum_{s'} \\left(r(s, a, s') + \\gamma \\max_{a'\\in\\calA}Q_0(s',a')\\right) p(s'|s, a)\n",
    "$$\n"
   ]
  },
  {
   "cell_type": "code",
   "execution_count": 131,
   "metadata": {
    "colab": {},
    "colab_type": "code",
    "id": "R8TLRx6MOPfy"
   },
   "outputs": [],
   "source": [
    "# --------------\n",
    "# Point 1\n",
    "# --------------\n",
    "def bellman_operator(Q0, R, P, gamma):\n",
    "    r\"\"\"\n",
    "    Args:\n",
    "        Q0: input state-action value func\n",
    "        R: pre-computed S x A x S reward function values\n",
    "        P: proba transition matrix\n",
    "    \"\"\"\n",
    "    \n",
    "    Q_max_act = np.max(Q0, axis=1)[None,None,...]\n",
    "    Q1 = np.sum((R + gamma * Q_max_act) * P, axis=2)\n",
    "    greedy_policy = np.argmax(Q1, axis=1)\n",
    "    \n",
    "    return Q1, greedy_policy\n",
    "\n",
    "# --------------\n",
    "# Point 2\n",
    "# --------------\n",
    "def value_iteration(Q0, env, epsilon=1e-5, print_every=100):\n",
    "    # TODO (feel free to change the return argument)\n",
    "\n",
    "    # Precompute the S x A x S reward tensor\n",
    "    import itertools\n",
    "    R_ = np.empty((env.Ns, env.Na, env.Ns))\n",
    "    for s, a, sprime in itertools.product(env.states, env.actions, env.states):\n",
    "        R_[s, a, sprime] = env.reward_func(s, a, sprime)\n",
    "\n",
    "    Q = Q0.copy()\n",
    "    Q_history = []\n",
    "    Q_history.append(Q)\n",
    "    norm = np.inf\n",
    "    its = 0\n",
    "    norm_vals = [norm]\n",
    "    while norm > epsilon:\n",
    "        if its % print_every == 0:\n",
    "            print(\"Iteration #%d -- norm=%.3e\" % (its, norm))\n",
    "        Q_new, greedy_policy = bellman_operator(Q, R_, env.P, env.gamma)\n",
    "        deltaV = np.absolute(Q_new.max(axis=1) - Q.max(axis=1))\n",
    "        norm = np.max(deltaV)\n",
    "        norm_vals.append(norm)\n",
    "        # Set Q as Q_new\n",
    "        Q = Q_new\n",
    "        # add to history\n",
    "        Q_history.append(Q)\n",
    "        \n",
    "        its += 1\n",
    "    \n",
    "    return Q, greedy_policy, Q_history, norm_vals"
   ]
  },
  {
   "cell_type": "code",
   "execution_count": 132,
   "metadata": {},
   "outputs": [],
   "source": [
    "## SANITY TEST FOR BELLMAN_OPERATOR\n",
    "\n",
    "import itertools\n",
    "\n",
    "R_ = np.empty((env.Ns, env.Na, env.Ns))\n",
    "for s, a, sprime in itertools.product(env.states, env.actions, env.states):\n",
    "    R_[s, a, sprime] = env.reward_func(s, a, sprime)"
   ]
  },
  {
   "cell_type": "code",
   "execution_count": 133,
   "metadata": {},
   "outputs": [
    {
     "name": "stdout",
     "output_type": "stream",
     "text": [
      "Q0 shape (48, 4)\n"
     ]
    }
   ],
   "source": [
    "## Sanity test\n",
    "Q0_ = np.random.rand(env.Ns, env.Na)\n",
    "print('Q0 shape', Q0_.shape)\n",
    "Q1_, pol_ = bellman_operator(Q0_, R_, env.P, env.gamma)"
   ]
  },
  {
   "cell_type": "code",
   "execution_count": 134,
   "metadata": {
    "colab": {},
    "colab_type": "code",
    "id": "W_lBe6q6OPf2"
   },
   "outputs": [
    {
     "name": "stdout",
     "output_type": "stream",
     "text": [
      "Iteration #0 -- norm=inf\n",
      "Iteration #50 -- norm=4.141e-01\n",
      "Iteration #100 -- norm=2.366e-01\n",
      "Iteration #150 -- norm=1.412e-01\n",
      "Iteration #200 -- norm=8.483e-02\n",
      "Iteration #250 -- norm=5.108e-02\n",
      "Iteration #300 -- norm=3.080e-02\n",
      "Iteration #350 -- norm=1.858e-02\n",
      "Iteration #400 -- norm=1.122e-02\n",
      "Iteration #450 -- norm=6.776e-03\n",
      "Iteration #500 -- norm=4.095e-03\n",
      "Iteration #550 -- norm=2.475e-03\n",
      "Iteration #600 -- norm=1.496e-03\n",
      "Iteration #650 -- norm=9.048e-04\n",
      "Iteration #700 -- norm=5.471e-04\n",
      "Iteration #750 -- norm=3.309e-04\n",
      "Iteration #800 -- norm=2.001e-04\n",
      "Iteration #850 -- norm=1.211e-04\n",
      "Iteration #900 -- norm=7.323e-05\n",
      "Iteration #950 -- norm=4.430e-05\n",
      "Iteration #1000 -- norm=2.680e-05\n",
      "Iteration #1050 -- norm=1.621e-05\n"
     ]
    }
   ],
   "source": [
    "# --------------\n",
    "# Point 3\n",
    "# --------------\n",
    "\n",
    "## Load data\n",
    "\n",
    "with open(\"./mvarl_hands_on/data/Q_opts.json\", \"r\") as fp:\n",
    "    Qopts = json.load(fp)\n",
    "Qstar = Qopts[\"{}_{}\".format(type(env).__name__,env.gamma)]\n",
    "\n",
    "Qstar = np.array(Qstar)\n",
    "\n",
    "Q, greedy_policy, Q_history, norm_values = value_iteration(Q0_, env, print_every=50)"
   ]
  },
  {
   "cell_type": "code",
   "execution_count": 141,
   "metadata": {},
   "outputs": [],
   "source": [
    "dist_to_opt = np.array([np.max(Qstar.max(axis=1) - Q.max(axis=1)) for Q in Q_history])"
   ]
  },
  {
   "cell_type": "code",
   "execution_count": 154,
   "metadata": {
    "colab": {},
    "colab_type": "code",
    "id": "W_lBe6q6OPf2"
   },
   "outputs": [
    {
     "data": {
      "text/plain": [
       "Text(0.5, 1.0, 'Value iteration: Convergence of state-action Q')"
      ]
     },
     "execution_count": 154,
     "metadata": {},
     "output_type": "execute_result"
    },
    {
     "data": {
      "image/png": "[encoded data removed]",
      "text/plain": [
       "<Figure size 432x288 with 2 Axes>"
      ]
     },
     "metadata": {
      "needs_background": "light"
     },
     "output_type": "display_data"
    }
   ],
   "source": [
    "plt.plot(norm_values, label=\"Improvement at each step\")\n",
    "plt.ylabel(\"Improvement\")\n",
    "plt.twinx()\n",
    "\n",
    "plt.plot(dist_to_opt, label=\"Distance to $Q^*$\", c='r', ls='--')\n",
    "plt.tick_params(colors='r',grid_color='r')\n",
    "\n",
    "\n",
    "plt.xlabel('Iteration')\n",
    "plt.ylabel('Error relative to $Q^*$', c='r')\n",
    "plt.title(\"Value iteration: Convergence of state-action Q\")"
   ]
  },
  {
   "cell_type": "code",
   "execution_count": 136,
   "metadata": {},
   "outputs": [
    {
     "data": {
      "text/plain": [
       "array([0, 0, 0, 0, 0, 0, 0, 0, 0, 0, 0, 1, 0, 0, 0, 0, 0, 0, 0, 0, 0, 0,\n",
       "       0, 1, 0, 0, 0, 0, 0, 0, 0, 0, 0, 0, 0, 1, 3, 3, 3, 3, 3, 3, 3, 3,\n",
       "       3, 3, 0, 0])"
      ]
     },
     "execution_count": 136,
     "metadata": {},
     "output_type": "execute_result"
    }
   ],
   "source": [
    "greedy_policy"
   ]
  },
  {
   "cell_type": "code",
   "execution_count": 137,
   "metadata": {
    "colab": {},
    "colab_type": "code",
    "id": "FbzFs3tDvcJy"
   },
   "outputs": [
    {
     "name": "stdout",
     "output_type": "stream",
     "text": [
      "+-----------------------+\n",
      "| : : : : : : : : : : : |\n",
      "| : : : : : : : : : : : |\n",
      "| : : : : : : : : : : : |\n",
      "|\u001b[43mS\u001b[0m:x:x:x:x:x:x:x:x:x:x:G|\n",
      "+-----------------------+\n",
      "  (down)\n",
      "+-----------------------+\n",
      "| : : : : : : : : : : : |\n",
      "| : : : : : : : : : : : |\n",
      "|\u001b[43m_\u001b[0m: : : : : : : : : : : |\n",
      "|S:x:x:x:x:x:x:x:x:x:x:G|\n",
      "+-----------------------+\n",
      "  (up)\n",
      "+-----------------------+\n",
      "| : : : : : : : : : : : |\n",
      "| : : : : : : : : : : : |\n",
      "| :\u001b[43m_\u001b[0m: : : : : : : : : : |\n",
      "|S:x:x:x:x:x:x:x:x:x:x:G|\n",
      "+-----------------------+\n",
      "  (right)\n",
      "+-----------------------+\n",
      "| : : : : : : : : : : : |\n",
      "| : : : : : : : : : : : |\n",
      "| : :\u001b[43m_\u001b[0m: : : : : : : : : |\n",
      "|S:x:x:x:x:x:x:x:x:x:x:G|\n",
      "+-----------------------+\n",
      "  (right)\n",
      "+-----------------------+\n",
      "| : : : : : : : : : : : |\n",
      "| : : : : : : : : : : : |\n",
      "| : : :\u001b[43m_\u001b[0m: : : : : : : : |\n",
      "|S:x:x:x:x:x:x:x:x:x:x:G|\n",
      "+-----------------------+\n",
      "  (right)\n",
      "+-----------------------+\n",
      "| : : : : : : : : : : : |\n",
      "| : : : : : : : : : : : |\n",
      "| : : : :\u001b[43m_\u001b[0m: : : : : : : |\n",
      "|S:x:x:x:x:x:x:x:x:x:x:G|\n",
      "+-----------------------+\n",
      "  (right)\n",
      "+-----------------------+\n",
      "| : : : : : : : : : : : |\n",
      "| : : : : : : : : : : : |\n",
      "| : : : : :\u001b[43m_\u001b[0m: : : : : : |\n",
      "|S:x:x:x:x:x:x:x:x:x:x:G|\n",
      "+-----------------------+\n",
      "  (right)\n",
      "+-----------------------+\n",
      "| : : : : : : : : : : : |\n",
      "| : : : : : : : : : : : |\n",
      "| : : : : : :\u001b[43m_\u001b[0m: : : : : |\n",
      "|S:x:x:x:x:x:x:x:x:x:x:G|\n",
      "+-----------------------+\n",
      "  (right)\n",
      "+-----------------------+\n",
      "| : : : : : : : : : : : |\n",
      "| : : : : : : : : : : : |\n",
      "| : : : : : : :\u001b[43m_\u001b[0m: : : : |\n",
      "|S:x:x:x:x:x:x:x:x:x:x:G|\n",
      "+-----------------------+\n",
      "  (right)\n",
      "+-----------------------+\n",
      "| : : : : : : : : : : : |\n",
      "| : : : : : : : : : : : |\n",
      "| : : : : : : : :\u001b[43m_\u001b[0m: : : |\n",
      "|S:x:x:x:x:x:x:x:x:x:x:G|\n",
      "+-----------------------+\n",
      "  (right)\n",
      "+-----------------------+\n",
      "| : : : : : : : : : : : |\n",
      "| : : : : : : : : : : : |\n",
      "| : : : : : : : : :\u001b[43m_\u001b[0m: : |\n",
      "|S:x:x:x:x:x:x:x:x:x:x:G|\n",
      "+-----------------------+\n",
      "  (right)\n",
      "+-----------------------+\n",
      "| : : : : : : : : : : : |\n",
      "| : : : : : : : : : : : |\n",
      "| : : : : : : : : : :\u001b[43m_\u001b[0m: |\n",
      "|S:x:x:x:x:x:x:x:x:x:x:G|\n",
      "+-----------------------+\n",
      "  (right)\n",
      "+-----------------------+\n",
      "| : : : : : : : : : : : |\n",
      "| : : : : : : : : : : : |\n",
      "| : : : : : : : : : : :\u001b[43m_\u001b[0m|\n",
      "|S:x:x:x:x:x:x:x:x:x:x:G|\n",
      "+-----------------------+\n",
      "  (right)\n",
      "+-----------------------+\n",
      "| : : : : : : : : : : : |\n",
      "| : : : : : : : : : : : |\n",
      "| : : : : : : : : : : : |\n",
      "|S:x:x:x:x:x:x:x:x:x:x:\u001b[42mG\u001b[0m|\n",
      "+-----------------------+\n",
      "  (down)\n",
      "+-----------------------+\n",
      "| : : : : : : : : : : : |\n",
      "| : : : : : : : : : : : |\n",
      "| : : : : : : : : : : : |\n",
      "|\u001b[43mS\u001b[0m:x:x:x:x:x:x:x:x:x:x:G|\n",
      "+-----------------------+\n",
      "  (right)\n",
      "+-----------------------+\n",
      "| : : : : : : : : : : : |\n",
      "| : : : : : : : : : : : |\n",
      "|\u001b[43m_\u001b[0m: : : : : : : : : : : |\n",
      "|S:x:x:x:x:x:x:x:x:x:x:G|\n",
      "+-----------------------+\n",
      "  (up)\n",
      "+-----------------------+\n",
      "| : : : : : : : : : : : |\n",
      "| : : : : : : : : : : : |\n",
      "| :\u001b[43m_\u001b[0m: : : : : : : : : : |\n",
      "|S:x:x:x:x:x:x:x:x:x:x:G|\n",
      "+-----------------------+\n",
      "  (right)\n",
      "+-----------------------+\n",
      "| : : : : : : : : : : : |\n",
      "| : : : : : : : : : : : |\n",
      "| : :\u001b[43m_\u001b[0m: : : : : : : : : |\n",
      "|S:x:x:x:x:x:x:x:x:x:x:G|\n",
      "+-----------------------+\n",
      "  (right)\n",
      "+-----------------------+\n",
      "| : : : : : : : : : : : |\n",
      "| : : : : : : : : : : : |\n",
      "| : : :\u001b[43m_\u001b[0m: : : : : : : : |\n",
      "|S:x:x:x:x:x:x:x:x:x:x:G|\n",
      "+-----------------------+\n",
      "  (right)\n",
      "+-----------------------+\n",
      "| : : : : : : : : : : : |\n",
      "| : : : : : : : : : : : |\n",
      "| : : : :\u001b[43m_\u001b[0m: : : : : : : |\n",
      "|S:x:x:x:x:x:x:x:x:x:x:G|\n",
      "+-----------------------+\n",
      "  (right)\n",
      "+-----------------------+\n",
      "| : : : : : : : : : : : |\n",
      "| : : : : : : : : : : : |\n",
      "| : : : : :\u001b[43m_\u001b[0m: : : : : : |\n",
      "|S:x:x:x:x:x:x:x:x:x:x:G|\n",
      "+-----------------------+\n",
      "  (right)\n",
      "+-----------------------+\n",
      "| : : : : : : : : : : : |\n",
      "| : : : : : : : : : : : |\n",
      "| : : : : : :\u001b[43m_\u001b[0m: : : : : |\n",
      "|S:x:x:x:x:x:x:x:x:x:x:G|\n",
      "+-----------------------+\n",
      "  (right)\n",
      "+-----------------------+\n",
      "| : : : : : : : : : : : |\n",
      "| : : : : : : : : : : : |\n",
      "| : : : : : : :\u001b[43m_\u001b[0m: : : : |\n",
      "|S:x:x:x:x:x:x:x:x:x:x:G|\n",
      "+-----------------------+\n",
      "  (right)\n",
      "+-----------------------+\n",
      "| : : : : : : : : : : : |\n",
      "| : : : : : : : : : : : |\n",
      "| : : : : : : : :\u001b[43m_\u001b[0m: : : |\n",
      "|S:x:x:x:x:x:x:x:x:x:x:G|\n",
      "+-----------------------+\n",
      "  (right)\n",
      "+-----------------------+\n",
      "| : : : : : : : : : : : |\n",
      "| : : : : : : : : : : : |\n",
      "| : : : : : : : : :\u001b[43m_\u001b[0m: : |\n",
      "|S:x:x:x:x:x:x:x:x:x:x:G|\n",
      "+-----------------------+\n",
      "  (right)\n",
      "+-----------------------+\n",
      "| : : : : : : : : : : : |\n",
      "| : : : : : : : : : : : |\n",
      "| : : : : : : : : : :\u001b[43m_\u001b[0m: |\n",
      "|S:x:x:x:x:x:x:x:x:x:x:G|\n",
      "+-----------------------+\n",
      "  (right)\n",
      "+-----------------------+\n",
      "| : : : : : : : : : : : |\n",
      "| : : : : : : : : : : : |\n",
      "| : : : : : : : : : : :\u001b[43m_\u001b[0m|\n",
      "|S:x:x:x:x:x:x:x:x:x:x:G|\n",
      "+-----------------------+\n",
      "  (right)\n",
      "+-----------------------+\n",
      "| : : : : : : : : : : : |\n",
      "| : : : : : : : : : : : |\n",
      "| : : : : : : : : : : : |\n",
      "|S:x:x:x:x:x:x:x:x:x:x:\u001b[42mG\u001b[0m|\n",
      "+-----------------------+\n",
      "  (down)\n",
      "+-----------------------+\n",
      "| : : : : : : : : : : : |\n",
      "| : : : : : : : : : : : |\n",
      "| : : : : : : : : : : : |\n",
      "|\u001b[43mS\u001b[0m:x:x:x:x:x:x:x:x:x:x:G|\n",
      "+-----------------------+\n",
      "  (right)\n",
      "+-----------------------+\n",
      "| : : : : : : : : : : : |\n",
      "| : : : : : : : : : : : |\n",
      "|\u001b[43m_\u001b[0m: : : : : : : : : : : |\n",
      "|S:x:x:x:x:x:x:x:x:x:x:G|\n",
      "+-----------------------+\n",
      "  (up)\n",
      "+-----------------------+\n",
      "| : : : : : : : : : : : |\n",
      "| : : : : : : : : : : : |\n",
      "| :\u001b[43m_\u001b[0m: : : : : : : : : : |\n",
      "|S:x:x:x:x:x:x:x:x:x:x:G|\n",
      "+-----------------------+\n",
      "  (right)\n",
      "+-----------------------+\n",
      "| : : : : : : : : : : : |\n",
      "| : : : : : : : : : : : |\n",
      "| : :\u001b[43m_\u001b[0m: : : : : : : : : |\n",
      "|S:x:x:x:x:x:x:x:x:x:x:G|\n",
      "+-----------------------+\n",
      "  (right)\n",
      "+-----------------------+\n",
      "| : : : : : : : : : : : |\n",
      "| : : : : : : : : : : : |\n",
      "| : : :\u001b[43m_\u001b[0m: : : : : : : : |\n",
      "|S:x:x:x:x:x:x:x:x:x:x:G|\n",
      "+-----------------------+\n",
      "  (right)\n",
      "+-----------------------+\n",
      "| : : : : : : : : : : : |\n",
      "| : : : : : : : : : : : |\n",
      "| : : : :\u001b[43m_\u001b[0m: : : : : : : |\n",
      "|S:x:x:x:x:x:x:x:x:x:x:G|\n",
      "+-----------------------+\n",
      "  (right)\n",
      "+-----------------------+\n",
      "| : : : : : : : : : : : |\n",
      "| : : : :\u001b[43m_\u001b[0m: : : : : : : |\n",
      "| : : : : : : : : : : : |\n",
      "|S:x:x:x:x:x:x:x:x:x:x:G|\n",
      "+-----------------------+\n",
      "  (right)\n",
      "+-----------------------+\n",
      "| : : : : : : : : : : : |\n",
      "| : : : : :\u001b[43m_\u001b[0m: : : : : : |\n",
      "| : : : : : : : : : : : |\n",
      "|S:x:x:x:x:x:x:x:x:x:x:G|\n",
      "+-----------------------+\n",
      "  (right)\n",
      "+-----------------------+\n",
      "| : : : : : : : : : : : |\n",
      "| : : : : : :\u001b[43m_\u001b[0m: : : : : |\n",
      "| : : : : : : : : : : : |\n",
      "|S:x:x:x:x:x:x:x:x:x:x:G|\n",
      "+-----------------------+\n",
      "  (right)\n",
      "+-----------------------+\n",
      "| : : : : : : : : : : : |\n",
      "| : : : : : : :\u001b[43m_\u001b[0m: : : : |\n",
      "| : : : : : : : : : : : |\n",
      "|S:x:x:x:x:x:x:x:x:x:x:G|\n",
      "+-----------------------+\n",
      "  (right)\n",
      "+-----------------------+\n",
      "| : : : : : : : : : : : |\n",
      "| : : : : : : : :\u001b[43m_\u001b[0m: : : |\n",
      "| : : : : : : : : : : : |\n",
      "|S:x:x:x:x:x:x:x:x:x:x:G|\n",
      "+-----------------------+\n",
      "  (right)\n",
      "+-----------------------+\n",
      "| : : : : : : : : : : : |\n",
      "| : : : : : : : : :\u001b[43m_\u001b[0m: : |\n",
      "| : : : : : : : : : : : |\n",
      "|S:x:x:x:x:x:x:x:x:x:x:G|\n",
      "+-----------------------+\n",
      "  (right)\n",
      "+-----------------------+\n",
      "| : : : : : : : : : : : |\n",
      "| : : : : : : : : : :\u001b[43m_\u001b[0m: |\n",
      "| : : : : : : : : : : : |\n",
      "|S:x:x:x:x:x:x:x:x:x:x:G|\n",
      "+-----------------------+\n",
      "  (right)\n",
      "+-----------------------+\n",
      "| : : : : : : : : : : : |\n",
      "| : : : : : : : : : : :\u001b[43m_\u001b[0m|\n",
      "| : : : : : : : : : : : |\n",
      "|S:x:x:x:x:x:x:x:x:x:x:G|\n",
      "+-----------------------+\n",
      "  (right)\n",
      "+-----------------------+\n",
      "| : : : : : : : : : : : |\n",
      "| : : : : : : : : : : : |\n",
      "| : : : : : : : : : : :\u001b[43m_\u001b[0m|\n",
      "|S:x:x:x:x:x:x:x:x:x:x:G|\n",
      "+-----------------------+\n",
      "  (down)\n",
      "+-----------------------+\n",
      "| : : : : : : : : : : : |\n",
      "| : : : : : : : : : : : |\n",
      "| : : : : : : : : : : : |\n",
      "|S:x:x:x:x:x:x:x:x:x:x:\u001b[42mG\u001b[0m|\n",
      "+-----------------------+\n",
      "  (down)\n",
      "+-----------------------+\n",
      "| : : : : : : : : : : : |\n",
      "| : : : : : : : : : : : |\n",
      "| : : : : : : : : : : : |\n",
      "|\u001b[43mS\u001b[0m:x:x:x:x:x:x:x:x:x:x:G|\n",
      "+-----------------------+\n",
      "  (right)\n",
      "+-----------------------+\n",
      "| : : : : : : : : : : : |\n",
      "| : : : : : : : : : : : |\n",
      "|\u001b[43m_\u001b[0m: : : : : : : : : : : |\n",
      "|S:x:x:x:x:x:x:x:x:x:x:G|\n",
      "+-----------------------+\n",
      "  (up)\n",
      "+-----------------------+\n",
      "| : : : : : : : : : : : |\n",
      "| : : : : : : : : : : : |\n",
      "| :\u001b[43m_\u001b[0m: : : : : : : : : : |\n",
      "|S:x:x:x:x:x:x:x:x:x:x:G|\n",
      "+-----------------------+\n",
      "  (right)\n",
      "+-----------------------+\n",
      "| : : : : : : : : : : : |\n",
      "| : : : : : : : : : : : |\n",
      "| : :\u001b[43m_\u001b[0m: : : : : : : : : |\n",
      "|S:x:x:x:x:x:x:x:x:x:x:G|\n",
      "+-----------------------+\n",
      "  (right)\n",
      "+-----------------------+\n",
      "| : : : : : : : : : : : |\n",
      "| : : : : : : : : : : : |\n",
      "| : : :\u001b[43m_\u001b[0m: : : : : : : : |\n",
      "|S:x:x:x:x:x:x:x:x:x:x:G|\n",
      "+-----------------------+\n",
      "  (right)\n",
      "+-----------------------+\n",
      "| : : : : : : : : : : : |\n",
      "| : : : : : : : : : : : |\n",
      "| : : : :\u001b[43m_\u001b[0m: : : : : : : |\n",
      "|S:x:x:x:x:x:x:x:x:x:x:G|\n",
      "+-----------------------+\n",
      "  (right)\n",
      "+-----------------------+\n",
      "| : : : : : : : : : : : |\n",
      "| : : : : : : : : : : : |\n",
      "| : : : : :\u001b[43m_\u001b[0m: : : : : : |\n",
      "|S:x:x:x:x:x:x:x:x:x:x:G|\n",
      "+-----------------------+\n",
      "  (right)\n"
     ]
    }
   ],
   "source": [
    "state = env.reset()\n",
    "env.render()\n",
    "for i in range(50):\n",
    "    action = greedy_policy[state]\n",
    "    state, reward, done, _ = env.step(action)\n",
    "    env.render()"
   ]
  },
  {
   "cell_type": "markdown",
   "metadata": {
    "colab_type": "text",
    "id": "azfXmRzZOPf4"
   },
   "source": [
    "## Question 2: Q learning\n",
    "Q learning is a model-free algorithm for estimating the optimal Q-function online.\n",
    "It is an off-policy algorithm since the samples are collected with a policy that is (potentially) not the one associated to the estimated Q-function.\n",
    "\n",
    "1. Implement Q learning with $\\epsilon$-greedy exploration.\n",
    "  - Plot the error in Q-functions over iterations\n",
    "  - Plot the cumulative sum of rewards"
   ]
  },
  {
   "cell_type": "code",
   "execution_count": 329,
   "metadata": {
    "colab": {},
    "colab_type": "code",
    "id": "_t3WqIt-OPf5"
   },
   "outputs": [],
   "source": [
    "# ---------------------------\n",
    "# Q-Learning\n",
    "# ---------------------------\n",
    "# suggested interface\n",
    "# you can change it!\n",
    "class QLearning:\n",
    "    \"\"\"\n",
    "    Q learning with epsilon-greedy exploration\n",
    "    \"\"\"\n",
    "    def __init__(self, Ns, Na, env, epsilon=0.3):\n",
    "        self.Ns = Ns\n",
    "        self.Na = Na\n",
    "        self.env = env\n",
    "        self.Q = np.random.rand(Ns, Na)  # S x A initial \"guess\" for Q function\n",
    "        self.epsilon = epsilon\n",
    "    \n",
    "    def sample_action(self, state):\n",
    "        \"\"\"\n",
    "        Take the best short-term (greedy) action with proba 1 - epsilon\n",
    "        or take a random action.\n",
    "        \n",
    "        Args\n",
    "            state:  state for which we want to take an action\n",
    "        \"\"\"\n",
    "        u = np.random.rand()\n",
    "        if u < 1 - self.epsilon:\n",
    "            idx = np.argmax(self.Q[state])\n",
    "            return self.env.action_sets[state][idx]\n",
    "        else:\n",
    "            # Choose an action uniformly\n",
    "            return np.random.choice(self.env.action_sets[state])\n",
    "    \n",
    "    def update(self, state, action, next_state, reward, alpha):\n",
    "        \"\"\"\n",
    "        Given the state, action, next state and reward trajectory slice,\n",
    "        update the Q function.\n",
    "        \"\"\"\n",
    "        delta = reward + self.env.gamma * np.max(self.Q[next_state]) - self.Q[state, action]\n",
    "        self.Q[state, action] = self.Q[state, action] + alpha * delta"
   ]
  },
  {
   "cell_type": "code",
   "execution_count": 386,
   "metadata": {
    "colab": {},
    "colab_type": "code",
    "id": "CKTc5nWIOPf6"
   },
   "outputs": [
    {
     "name": "stdout",
     "output_type": "stream",
     "text": [
      "Iteration #0 -- norm=inf\n",
      "Iteration #100 -- norm=2.459e-01\n",
      "Iteration #200 -- norm=8.710e-02\n",
      "Iteration #300 -- norm=3.148e-02\n",
      "Iteration #400 -- norm=1.144e-02\n",
      "Iteration #500 -- norm=4.169e-03\n",
      "Iteration #600 -- norm=1.522e-03\n",
      "Iteration #700 -- norm=5.563e-04\n",
      "Iteration #800 -- norm=2.034e-04\n",
      "Iteration #900 -- norm=7.441e-05\n",
      "Iteration #1000 -- norm=2.722e-05\n",
      "Iteration #1100 -- norm=9.963e-06\n",
      "Iteration #1200 -- norm=3.646e-06\n",
      "Iteration #1300 -- norm=1.334e-06\n",
      "Iteration #1400 -- norm=4.884e-07\n",
      "Iteration #1500 -- norm=1.788e-07\n",
      "Iteration #1600 -- norm=6.543e-08\n",
      "Iteration #1700 -- norm=2.395e-08\n"
     ]
    }
   ],
   "source": [
    "# --------------\n",
    "# Point 1\n",
    "# --------------\n",
    "# Number of Q learning steps\n",
    "# max_steps = int(1e5)  \n",
    "max_steps = 60000\n",
    "\n",
    "Q0 = np.zeros((env.Ns, env.Na))\n",
    "# Use the previous code to verify the correctness of q learning\n",
    "Q_opt, pi_opt, *_ = value_iteration(Q0, env, epsilon=1e-8)"
   ]
  },
  {
   "cell_type": "code",
   "execution_count": 384,
   "metadata": {},
   "outputs": [
    {
     "name": "stdout",
     "output_type": "stream",
     "text": [
      "+-----------------------+\n",
      "| : : : : : : : : : : : |\n",
      "| : : : : : : : : : : : |\n",
      "| : : : : : : :\u001b[43m_\u001b[0m: : : : |\n",
      "|S:x:x:x:x:x:x:x:x:x:x:G|\n",
      "+-----------------------+\n",
      "  (left)\n",
      "Opt. policy: [0 0 0 0 0 0 0 0 0 0 0 1 0 0 0 0 0 0 0 0 0 0 0 1 0 0 0 0 0 0 0 0 0 0 0 1 3\n",
      " 3 3 3 3 3 3 3 3 3 0 0]\n",
      "Est. policy: [1 1 1 0 0 0 1 1 1 0 1 1 0 0 0 0 0 0 0 1 1 1 0 1 0 0 0 0 0 0 0 0 0 0 0 1 3\n",
      " 2 3 3 3 3 3 3 3 3 0 0]\n"
     ]
    }
   ],
   "source": [
    "ql = QLearning(env.Ns, env.Na, env, epsilon=.5)\n",
    "\n",
    "# main algorithmic loop\n",
    "norm_values = []\n",
    "t = 0\n",
    "state = env.reset()\n",
    "cum_rewards = [0.]\n",
    "\n",
    "while t < max_steps:\n",
    "    action = ql.sample_action(state)\n",
    "    observation, reward, done, info = env.step(action)\n",
    "    alpha = 2. / np.log(2 + np.log(1+t))\n",
    "    ql.update(state, action, observation, reward, alpha)\n",
    "    norm_values.append(np.abs(ql.Q - Q_opt).mean())\n",
    "\n",
    "    t += 1\n",
    "    state = observation\n",
    "    cum_rewards.append(env.gamma * cum_rewards[-1] + reward)\n",
    "\n",
    "norm_values = np.array(norm_values)\n",
    "\n",
    "env.render()\n",
    "print(\"Opt. policy:\", pi_opt)\n",
    "greedy_policy = np.argmax(ql.Q, axis=1)\n",
    "print(\"Est. policy:\", greedy_policy)"
   ]
  },
  {
   "cell_type": "code",
   "execution_count": 385,
   "metadata": {},
   "outputs": [
    {
     "name": "stdout",
     "output_type": "stream",
     "text": [
      "Final norm: 0.07228214204191115\n"
     ]
    },
    {
     "data": {
      "image/png": "[encoded data removed]",
      "text/plain": [
       "<Figure size 800x320 with 2 Axes>"
      ]
     },
     "metadata": {
      "needs_background": "light"
     },
     "output_type": "display_data"
    }
   ],
   "source": [
    "fig = plt.figure(dpi=80, figsize=(10, 4))\n",
    "plt.subplot(121)\n",
    "plt.plot(norm_values)\n",
    "plt.xlabel('Iteration')\n",
    "plt.ylabel('$L_1$ error')\n",
    "plt.title(\"Q-learning: Convergence of $Q$\")\n",
    "\n",
    "plt.yscale('log')\n",
    "\n",
    "plt.subplot(122)\n",
    "plt.plot(cum_rewards)\n",
    "plt.xlabel('Iteration')\n",
    "plt.title(\"Cumulative reward\")\n",
    "\n",
    "print(\"Final norm:\", norm_values[-1])\n",
    "\n",
    "# how confident are you in the performance of the algorithm? maybe a single run is not enough"
   ]
  },
  {
   "cell_type": "code",
   "execution_count": null,
   "metadata": {},
   "outputs": [],
   "source": []
  }
 ],
 "metadata": {
  "colab": {
   "collapsed_sections": [],
   "name": "MVARL19_part1.ipynb",
   "private_outputs": true,
   "provenance": [],
   "toc_visible": true
  },
  "kernelspec": {
   "display_name": "Python [conda env:torch]",
   "language": "python",
   "name": "conda-env-torch-py"
  },
  "language_info": {
   "codemirror_mode": {
    "name": "ipython",
    "version": 3
   },
   "file_extension": ".py",
   "mimetype": "text/x-python",
   "name": "python",
   "nbconvert_exporter": "python",
   "pygments_lexer": "ipython3",
   "version": "3.7.5"
  }
 },
 "nbformat": 4,
 "nbformat_minor": 4
}
